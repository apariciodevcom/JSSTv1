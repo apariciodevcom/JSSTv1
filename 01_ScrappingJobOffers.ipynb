{
 "cells": [
  {
   "cell_type": "code",
   "execution_count": 33,
   "id": "2598698e",
   "metadata": {},
   "outputs": [],
   "source": [
    "#Importar librerias\n",
    "import pandas as pd\n",
    "import re\n",
    "from selenium import webdriver\n",
    "from selenium.webdriver.common.keys import Keys\n",
    "from selenium.common.exceptions import NoSuchElementException\n",
    "import time\n",
    "\n",
    "import numpy as np\n",
    "from sqlalchemy import create_engine\n",
    "\n",
    "from selenium.webdriver.support.ui import WebDriverWait\n",
    "from selenium.webdriver.common.by import By\n",
    "from selenium.webdriver.support import expected_conditions as EC\n",
    "\n",
    "browser=webdriver.Chrome(\"chromedriver.exe\")\n",
    "browser.get(\"https://www.linkedin.com/\") #Enter web to scrap\n",
    "\n",
    "username=browser.find_element_by_id(\"session_key\")\n",
    "username.send_keys(\"example@mail.server\")\n",
    "password=browser.find_element_by_id(\"session_password\")\n",
    "password.send_keys(\"here_your_password")\n",
    "\n",
    "login_buttom=browser.find_element_by_class_name(\"sign-in-form__submit-button\")\n",
    "login_buttom.click()"
   ]
  },
  {
   "cell_type": "code",
   "execution_count": 34,
   "id": "e545662b",
   "metadata": {},
   "outputs": [],
   "source": [
    "browser.get(\"https://www.linkedin.com/jobs/search/?currentJobId=3342556595&geoId=106693272&keywords=data%20analyst&location=Switzerland&refresh=true&start=225\")\n"
   ]
  },
  {
   "cell_type": "code",
   "execution_count": 35,
   "id": "cf16a0ad",
   "metadata": {},
   "outputs": [
    {
     "name": "stdout",
     "output_type": "stream",
     "text": [
      "\n",
      "7\n",
      "7\n",
      "7\n"
     ]
    }
   ],
   "source": [
    "job=browser.find_elements_by_class_name(\"job-card-list__title\")\n",
    "c=[]\n",
    "href=[]\n",
    "for i in job:\n",
    "    try:\n",
    "        c.append(i.text)\n",
    "        href.append(i.get_attribute('href'))\n",
    "    except NoSuchElementException:\n",
    "        print('error')\n",
    "print()\n",
    "print(len(c))\n",
    "\n",
    "job2=browser.find_elements_by_class_name(\"job-card-container__primary-description\")\n",
    "company=[]\n",
    "for j in job2:\n",
    "    try:\n",
    "        comp=j.text\n",
    "        company.append(comp)\n",
    "    except NoSuchElementException:\n",
    "        comp='N/A'\n",
    "        company.append(comp)\n",
    "        \n",
    "\n",
    "print(len(company))\n",
    "\n",
    "job3=browser.find_elements_by_class_name(\"job-card-container__metadata-wrapper\")\n",
    "location=[]\n",
    "for k in job3:\n",
    "    try:\n",
    "        location.append(k.text)\n",
    "    except NoSuchElementException:\n",
    "        print('error')\n",
    "print(len(location))\n",
    "\n",
    "col=[\"Company Name\",\"Job Position\",\"Location\",\"Link\"]\n",
    "df=pd.DataFrame({\"Company Name\":company,\"Job Position\":c,\"Location\":location, \"Link\":href})"
   ]
  },
  {
   "cell_type": "code",
   "execution_count": 36,
   "id": "ebc2b48b",
   "metadata": {},
   "outputs": [],
   "source": [
    "df.to_csv(\"joblist221113_10.csv\")"
   ]
  },
  {
   "cell_type": "code",
   "execution_count": null,
   "id": "83a755c4",
   "metadata": {},
   "outputs": [],
   "source": []
  }
 ],
 "metadata": {
  "kernelspec": {
   "display_name": "Python 3 (ipykernel)",
   "language": "python",
   "name": "python3"
  },
  "language_info": {
   "codemirror_mode": {
    "name": "ipython",
    "version": 3
   },
   "file_extension": ".py",
   "mimetype": "text/x-python",
   "name": "python",
   "nbconvert_exporter": "python",
   "pygments_lexer": "ipython3",
   "version": "3.9.12"
  }
 },
 "nbformat": 4,
 "nbformat_minor": 5
}
