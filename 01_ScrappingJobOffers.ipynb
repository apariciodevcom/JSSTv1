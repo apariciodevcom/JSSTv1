{
 "cells": [
  {
   "cell_type": "markdown",
   "id": "27c29023",
   "metadata": {},
   "source": [
    "# Description of this Notebook\n",
    "\n",
    "\n",
    "<p>This notebook allows you to quickly extract information about job offers on Linkedin, the data comes out of the first screen when you make a query on Linkedin, for example: \"Data Analyst\".</p>\n",
    "<p>The fields we extract are:</p>\n",
    "<ol>\n",
    "  <li>Company Name</li>\n",
    "  <li>Job Position</li>\n",
    "  <li>Location</li>\n",
    "  <li>Link</li>\n",
    "</ol> \n",
    "\n",
    "Note: Don't forget check the version of your web navigator and download the apropiate version of [Chromedriver](https://chromedriver.chromium.org/home)."
   ]
  },
  {
   "cell_type": "code",
   "execution_count": 18,
   "id": "7d1cabe8",
   "metadata": {},
   "outputs": [],
   "source": [
    "#Import libraries\n",
    "import pandas as pd\n",
    "import re\n",
    "from selenium import webdriver\n",
    "from selenium.webdriver.common.keys import Keys\n",
    "from selenium.common.exceptions import NoSuchElementException\n",
    "import time\n",
    "\n",
    "import numpy as np\n",
    "from sqlalchemy import create_engine #Optional, if you want to export data to a Postgres database\n",
    "\n",
    "credentials=pd.read_csv('credentials.txt') #For security reasons\n",
    "\n",
    "from selenium.webdriver.support.ui import WebDriverWait\n",
    "from selenium.webdriver.common.by import By\n",
    "from selenium.webdriver.support import expected_conditions as EC\n",
    "\n",
    "browser=webdriver.Chrome(\"chromedriver.exe\")\n",
    "browser.get(\"https://www.linkedin.com/\") #Enter web to scrap\n",
    "\n",
    "username=browser.find_element_by_id(\"session_key\")\n",
    "username.send_keys(credentials['email'])\n",
    "password=browser.find_element_by_id(\"session_password\")\n",
    "password.send_keys(credentials['password'])\n",
    "\n",
    "login_buttom=browser.find_element_by_class_name(\"sign-in-form__submit-button\")\n",
    "login_buttom.click()"
   ]
  },
  {
   "cell_type": "code",
   "execution_count": 19,
   "id": "e545662b",
   "metadata": {},
   "outputs": [],
   "source": [
    "# Put the web page with your search results\n",
    "browser.get(\"https://www.linkedin.com/jobs/search/?currentJobId=3342556595&geoId=106693272&keywords=data%20analyst&location=Switzerland&refresh=true&start=225\")"
   ]
  },
  {
   "cell_type": "code",
   "execution_count": 20,
   "id": "cf16a0ad",
   "metadata": {},
   "outputs": [
    {
     "name": "stdout",
     "output_type": "stream",
     "text": [
      "\n",
      "25\n",
      "25\n",
      "25\n"
     ]
    }
   ],
   "source": [
    "job=browser.find_elements_by_class_name(\"job-card-list__title\")\n",
    "c=[]\n",
    "href=[]\n",
    "for i in job:\n",
    "    try:\n",
    "        c.append(i.text)\n",
    "        href.append(i.get_attribute('href'))\n",
    "    except NoSuchElementException:\n",
    "        print('error')\n",
    "print()\n",
    "print(len(c))\n",
    "\n",
    "job2=browser.find_elements_by_class_name(\"job-card-container__primary-description\")\n",
    "company=[]\n",
    "for j in job2:\n",
    "    try:\n",
    "        comp=j.text\n",
    "        company.append(comp)\n",
    "    except NoSuchElementException:\n",
    "        comp='N/A'\n",
    "        company.append(comp)\n",
    "        \n",
    "\n",
    "print(len(company))\n",
    "\n",
    "job3=browser.find_elements_by_class_name(\"job-card-container__metadata-wrapper\")\n",
    "location=[]\n",
    "for k in job3:\n",
    "    try:\n",
    "        location.append(k.text)\n",
    "    except NoSuchElementException:\n",
    "        print('error')\n",
    "print(len(location))\n",
    "\n",
    "col=[\"Company Name\",\"Job Position\",\"Location\",\"Link\"]\n",
    "df=pd.DataFrame({\"Company Name\":company,\"Job Position\":c,\"Location\":location, \"Link\":href})"
   ]
  },
  {
   "cell_type": "code",
   "execution_count": 21,
   "id": "ebc2b48b",
   "metadata": {},
   "outputs": [],
   "source": [
    "#Export the results\n",
    "df.to_csv(\"scraptest1.csv\")"
   ]
  },
  {
   "cell_type": "code",
   "execution_count": null,
   "id": "83a755c4",
   "metadata": {},
   "outputs": [],
   "source": []
  }
 ],
 "metadata": {
  "kernelspec": {
   "display_name": "Python 3 (ipykernel)",
   "language": "python",
   "name": "python3"
  },
  "language_info": {
   "codemirror_mode": {
    "name": "ipython",
    "version": 3
   },
   "file_extension": ".py",
   "mimetype": "text/x-python",
   "name": "python",
   "nbconvert_exporter": "python",
   "pygments_lexer": "ipython3",
   "version": "3.9.12"
  }
 },
 "nbformat": 4,
 "nbformat_minor": 5
}
