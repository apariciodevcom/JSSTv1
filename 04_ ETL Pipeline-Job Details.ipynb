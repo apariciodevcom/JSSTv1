{
 "cells": [
  {
   "cell_type": "code",
   "execution_count": 1,
   "id": "925d68f1",
   "metadata": {},
   "outputs": [
    {
     "data": {
      "text/plain": [
       "(884, 7)"
      ]
     },
     "execution_count": 1,
     "metadata": {},
     "output_type": "execute_result"
    }
   ],
   "source": [
    "import pandas as pd\n",
    "import numpy as np\n",
    "from sqlalchemy import create_engine\n",
    "\n",
    "df=pd.read_csv('alljobs_221117_all.csv')\n",
    "df.shape"
   ]
  },
  {
   "cell_type": "markdown",
   "id": "f22b3ba9",
   "metadata": {},
   "source": [
    "### Preprocesamiento"
   ]
  },
  {
   "cell_type": "code",
   "execution_count": 2,
   "id": "05a0e76f",
   "metadata": {},
   "outputs": [
    {
     "data": {
      "text/plain": [
       "(884, 14)"
      ]
     },
     "execution_count": 2,
     "metadata": {},
     "output_type": "execute_result"
    }
   ],
   "source": [
    "# Todo a minusculas\n",
    "df['jd']=df['Job Details'].apply(lambda x: \" \".join(x.lower() for x in x.split()))\n",
    "df['Job Title']=df['Job Title'].apply(lambda x: \" \".join(x.lower() for x in x.split()))\n",
    "df['Company']=df['Company'].apply(lambda x: \" \".join(x.lower() for x in x.split()))\n",
    "df['Location']=df['Location'].apply(lambda x: \" \".join(x.lower() for x in x.split()))\n",
    "\n",
    "#Removing special char\n",
    "import re\n",
    "df['jd1']=df['jd'].map(lambda x: re.sub('<[^<]+?>', '', x))\n",
    "df['jd1']=df['jd1'].map(lambda x: re.sub(r'\\W+',' ',x))\n",
    "df['jd1']=df['jd1'].map(lambda x: re.sub(r' n ',' ',x))\n",
    "df['jd1']=df['jd1'].map(lambda x: re.sub(r' n about the job n n ',' ',x))\n",
    "\n",
    "df['Location']=df['Location'].map(lambda x: re.sub(r'\\W+',' ',x))\n",
    "df['Location']=df['Location'].map(lambda x: re.sub(r'switzerland',' ',x))\n",
    "\n",
    "df['iwc']=df['jd1'].apply(lambda x: len(str(x).split(\" \")))      #Initial Word Count\n",
    "df['mean']=df['iwc'].mean()\n",
    "df['inc']=df['jd1'].str.len()                                    #Initial Number of Character\n",
    "df['num'] = df['jd1'].apply(lambda x: len([x for x in x.split() if x.isdigit()]))\n",
    "df = df.reset_index()\n",
    "df.shape"
   ]
  },
  {
   "cell_type": "markdown",
   "id": "db0c29eb",
   "metadata": {},
   "source": [
    "## Extract keywords from all job descriptions\n",
    "\n",
    "<ol>\n",
    "  <li>business</li>\n",
    "  <li>team</li>\n",
    "  <li>management</li>\n",
    "  <li>support</li>\n",
    "  <li>development</li>\n",
    "  <li>analytic solution</li>\n",
    "  <li>sql - - - - - - - - - - - - - - - - <strong>f_sql</strong></li>\n",
    "  <li>english - - - - - - - - - - - - - - <strong>f_english</strong></li>\n",
    "  <li>cloud - - - - - - - - - - - - - - - <strong>f_cloud</strong></li>\n",
    "  <li>agile - - - - - - - - - - - - - - - <strong>f_agile</strong></li>\n",
    "  <li>python - - - - - - - - - - - - - - .<strong>f_python</strong></li>\n",
    "  <li>implementation</li>\n",
    "  <li>models</li>\n",
    "  <li>drive</li>\n",
    "  <li>impact</li>\n",
    "  <li>insights- - - - - - - - - - - - - - <strong>f_insights</strong></li>\n",
    "  <li>azure 183 - - - - - - - - - - - - - <strong>f_azure</strong></li>\n",
    "  <li>german - - - - - - - - - -  - - - - <strong>f_german</strong></li>\n",
    "  <li>google</li>\n",
    "  <li>integration - - - - - - - - - - - - <strong>flag</strong></li>\n",
    "  <li>delivery - - - - - - - -  - - - - - <strong>flag</strong></li>\n",
    "  <li>statistical - - - - - - - - - - - - <strong>flag</strong></li>\n",
    "  <li>collaborate - - - - - - - - - - - - <strong>flag</strong></li>\n",
    "  <li>big 124 - - - - - - - - - - - - - - <strong>flag</strong></li>\n",
    "  <li>banking 112</li>\n",
    "  <li>excel 109 - - - - - - - - - - - - - - <strong>flag</strong></li>\n",
    "  <li>tableau 102 - - - - - - - - - - - - - - <strong>flag</strong></li>\n",
    "  <li>visualization - - - - - - - - - - - - - - <strong>flag</strong></li>\n",
    "  <li>dashboards - - - - - - - - - - - - - - <strong>flag</strong></li>\n",
    "  <li>clinical</li>\n",
    "  <li>java 89</li>\n",
    "  <li>pasionate</li>\n",
    "  <li>mathematics</li>\n",
    "  <li>pharmaceutical</li>\n",
    "  <li>sas 73 - - - - - - - - - - - - - - <strong>flag</strong></li>\n",
    "  <li>pipelines - - - - - - - - - - - - - - <strong>flag</strong></li>\n",
    "  <li>oracle 63</li>\n",
    "  <li>aws 58 - - - - - - - - - - - - - - <strong>flag</strong></li>\n",
    "  <li>warehouse - - - - - - - - - - - - - - <strong>flag</strong></li>\n",
    "  <li>citizenship</li>\n",
    "  <li>linux - - - - - - - - - - - - - - <strong>flag</strong></li>\n",
    "  <li>scrum - - - - - - - - - - - - - - <strong>flag</strong></li>\n",
    "  <li>pandas - - - - - - - - - - - - - - <strong>flag</strong></li>\n",
    "</ol>"
   ]
  },
  {
   "cell_type": "code",
   "execution_count": 3,
   "id": "0167062a",
   "metadata": {},
   "outputs": [
    {
     "name": "stdout",
     "output_type": "stream",
     "text": [
      "and    14821\n",
      "the     7732\n",
      "to      7546\n",
      "dtype: int64\n"
     ]
    }
   ],
   "source": [
    "pd.set_option('display.max_rows', None)\n",
    "# Palabras frecuentes\n",
    "freq = pd.Series(' '.join(df['jd1']).split()).value_counts()[:3]\n",
    "print(freq)"
   ]
  },
  {
   "cell_type": "code",
   "execution_count": 4,
   "id": "afa991fe",
   "metadata": {},
   "outputs": [],
   "source": [
    "#Creacion de flags para aleman\n",
    "\n",
    "df['und']=df['jd1'].apply(lambda x: 1 if ' und ' in x else 0)\n",
    "df['der']=df['jd1'].apply(lambda x: 1 if ' der ' in x else 0)\n",
    "df['die']=df['jd1'].apply(lambda x: 1 if ' die ' in x else 0)\n",
    "df['mit']=df['jd1'].apply(lambda x: 1 if ' mit ' in x else 0)\n",
    "df['von']=df['jd1'].apply(lambda x: 1 if ' von ' in x else 0)\n",
    "df['für']=df['jd1'].apply(lambda x: 1 if ' für ' in x else 0)\n",
    "df['sie']=df['jd1'].apply(lambda x: 1 if ' wir ' in x else 0)\n",
    "df['sum_de']=df['und']+df['der']+df['die']+df['mit']+df['von']+df['für']+df['sie']\n",
    "df['flg_DEUTSCH']=df['sum_de'].apply(lambda x: 1 if x > 4 else 0)"
   ]
  },
  {
   "cell_type": "code",
   "execution_count": 5,
   "id": "cb79a2d2",
   "metadata": {},
   "outputs": [],
   "source": [
    "\n",
    "df['f_sql'] = df['jd1'].apply(lambda x: 1 if 'sql' in x else 0)\n",
    "df['f_english'] = df['jd1'].apply(lambda x: 1 if 'englis' in x else 0)\n",
    "df['f_cloud'] = df['jd1'].apply(lambda x: 1 if 'cloud' in x else 0)\n",
    "df['f_agile'] = df['jd1'].apply(lambda x: 1 if 'agile' in x else 0)\n",
    "df['f_python'] = df['jd1'].apply(lambda x: 1 if 'python' in x else 0)\n",
    "df['f_insights'] = df['jd1'].apply(lambda x: 1 if 'insights' in x else 0)\n",
    "df['f_azure'] = df['jd1'].apply(lambda x: 1 if 'azure' in x else 0)\n",
    "df['f_german'] = df['jd1'].apply(lambda x: 1 if 'german' in x else 0)\n",
    "\n",
    "df['f_r'] = df['jd1'].apply(lambda x: 1 if ' r ' in x else 0)\n",
    "df['f_java'] = df['jd1'].apply(lambda x: 1 if ' java ' in x else 0)\n",
    "df['f_javascript'] = df['jd1'].apply(lambda x: 1 if ' javascript ' in x else 0)\n",
    "df['f_bigdata'] = df['jd1'].apply(lambda x: 1 if 'big data' in x else 0)\n",
    "df['f_pandas'] = df['jd1'].apply(lambda x: 1 if 'pandas' in x else 0)\n",
    "df['f_ml'] = df['jd1'].apply(lambda x: 1 if 'machine learning' in x else 0)\n",
    "df['f_ml1'] = df['jd1'].apply(lambda x: 1 if ' ml ' in x else 0)\n",
    "df['f_dl'] = df['jd1'].apply(lambda x: 1 if 'deep learning' in x else 0)\n",
    "\n",
    "df['f_algorithms'] = df['jd1'].apply(lambda x: 1 if 'algorithms' in x else 0)\n",
    "df['f_engineer'] = df['jd1'].apply(lambda x: 1 if 'engineer' in x else 0)\n",
    "df['f_scala'] = df['jd1'].apply(lambda x: 1 if ' scala ' in x else 0)\n",
    "df['f_tableau'] = df['jd1'].apply(lambda x: 1 if 'tableau' in x else 0)\n",
    "df['f_qlik'] = df['jd1'].apply(lambda x: 1 if 'qlik' in x else 0)\n",
    "df['f_cloud'] = df['jd1'].apply(lambda x: 1 if 'cloud' in x else 0)\n",
    "df['f_twitter'] = df['jd1'].apply(lambda x: 1 if 'twitter' in x else 0)\n",
    "\n",
    "df['f_mathematics'] = df['jd1'].apply(lambda x: 1 if 'mathemati' in x else 0)\n",
    "df['f_pipelines'] = df['jd1'].apply(lambda x: 1 if 'pipelines' in x else 0)\n",
    "df['f_zurich'] = df['jd1'].apply(lambda x: 1 if 'zurich' in x else 0)\n",
    "df['f_geneva'] = df['jd1'].apply(lambda x: 1 if 'geneva' in x else 0)\n",
    "df['f_clinical'] = df['jd1'].apply(lambda x: 1 if 'clinical' in x else 0)\n",
    "df['f_salesforce'] = df['jd1'].apply(lambda x: 1 if 'salesforce' in x else 0)\n",
    "\n",
    "df['f_deutsch'] = df['jd1'].apply(lambda x: 1 if 'deutsch' in x else 0)\n",
    "df['f_german'] = df['jd1'].apply(lambda x: 1 if 'german' in x else 0)\n",
    "df['f_google'] = df['jd1'].apply(lambda x: 1 if 'google' in x else 0)\n",
    "df['f_programming'] = df['jd1'].apply(lambda x: 1 if 'develop' in x else 0)\n",
    "df['f_entwickeln'] = df['jd1'].apply(lambda x: 1 if 'entwickeln' in x else 0)\n",
    "\n",
    "df['f_developer'] = df['jd1'].apply(lambda x: 1 if 'programming' in x else 0)\n",
    "df['f_finance'] = df['jd1'].apply(lambda x: 1 if 'finance' in x else 0)\n",
    "df['f_fraud'] = df['jd1'].apply(lambda x: 1 if 'fraud' in x else 0)\n",
    "\n",
    "df['f_credit'] = df['jd1'].apply(lambda x: 1 if 'credit' in x else 0)\n",
    "df['f_bank'] = df['jd1'].apply(lambda x: 1 if 'bank' in x else 0)\n",
    "df['f_dashboards'] = df['jd1'].apply(lambda x: 1 if 'dashboard' in x else 0)\n",
    "df['f_excel'] = df['jd1'].apply(lambda x: 1 if 'powerpoint' in x else 0)\n",
    "df['f_powerpoint'] = df['jd1'].apply(lambda x: 1 if 'excel' in x else 0)\n",
    "df['f_agile'] = df['jd1'].apply(lambda x: 1 if 'agile' in x else 0)\n",
    "df['f_database'] = df['jd1'].apply(lambda x: 1 if 'database' in x else 0)\n",
    "df['f_statistic'] = df['jd1'].apply(lambda x: 1 if 'statisti' in x else 0)\n",
    "df['f_visualization'] = df['jd1'].apply(lambda x: 1 if 'visualization' in x else 0)\n",
    "df['f_bachelor'] = df['jd1'].apply(lambda x: 1 if 'bachelor' in x else 0)\n",
    "df['f_businessintelligence'] = df['jd1'].apply(lambda x: 1 if 'business intelligence' in x else 0)\n",
    "df['f_insight'] = df['jd1'].apply(lambda x: 1 if 'insight' in x else 0)\n",
    "df['f_modeling'] = df['jd1'].apply(lambda x: 1 if 'modeling' in x else 0)\n",
    "df['f_sas'] = df['jd1'].apply(lambda x: 1 if 'sas' in x else 0)\n",
    "df['f_hadoop'] = df['jd1'].apply(lambda x: 1 if 'hadoop' in x else 0)\n",
    "df['f_hive'] = df['jd1'].apply(lambda x: 1 if 'hive' in x else 0)\n",
    "df['f_aws'] = df['jd1'].apply(lambda x: 1 if 'aws' in x else 0)\n",
    "df['f_azure'] = df['jd1'].apply(lambda x: 1 if 'azure' in x else 0)\n",
    "df['f_oracle'] = df['jd1'].apply(lambda x: 1 if 'oracle' in x else 0)\n",
    "\n",
    "df['f_docker'] = df['jd1'].apply(lambda x: 1 if 'docker' in x else 0)\n",
    "df['f_kpi'] = df['jd1'].apply(lambda x: 1 if 'kpi' in x else 0)\n",
    "df['f_agile'] = df['jd1'].apply(lambda x: 1 if 'agile' in x else 0)\n",
    "df['f_ch'] = df['jd1'].apply(lambda x: 1 if 'switzerland' in x else 0)\n",
    "#df['f_short'] = df['iwc'].apply(lambda x: 1 if df['iwc']<df['iwc'] else 0)\n",
    "\n",
    "df['id_job'] = df['idjob'].str[34:60]\n",
    "df['id_job'] = df['id_job'].str[1:11]"
   ]
  },
  {
   "cell_type": "markdown",
   "id": "4dc59a40",
   "metadata": {},
   "source": [
    "### Salida de datos"
   ]
  },
  {
   "cell_type": "code",
   "execution_count": 6,
   "id": "98b6162d",
   "metadata": {},
   "outputs": [],
   "source": [
    "salida=df[[\"Job Title\",\"Company\",\"jd1\",\"Location\",\"idjob\",\"iwc\",\"flg_DEUTSCH\",\"f_python\",\"f_qlik\",\"f_tableau\",\"f_sql\",\n",
    "           \"f_agile\",\"f_azure\",\"f_sas\",\"f_visualization\",\"f_statistic\",\"f_database\"]]"
   ]
  },
  {
   "cell_type": "code",
   "execution_count": null,
   "id": "83c5ec15",
   "metadata": {},
   "outputs": [],
   "source": []
  },
  {
   "cell_type": "markdown",
   "id": "b8270d53",
   "metadata": {},
   "source": [
    "### Changelog\n",
    "***\n",
    "\n",
    "<table>\n",
    "  <tr>\n",
    "    <th>Time/Date</th>\n",
    "    <th>Author</th>\n",
    "    <th>Description</th>\n",
    "  </tr>\n",
    "  <tr>\n",
    "    <td>18:59 17/11/2022</td>\n",
    "    <td>Luis Figueroa Castillo</td>\n",
    "    <td>Obtaining keywords from job description</td>\n",
    "  </tr>\n",
    " \n",
    "</table>\n"
   ]
  },
  {
   "cell_type": "code",
   "execution_count": null,
   "id": "0e4db297",
   "metadata": {},
   "outputs": [],
   "source": []
  }
 ],
 "metadata": {
  "kernelspec": {
   "display_name": "Python 3 (ipykernel)",
   "language": "python",
   "name": "python3"
  },
  "language_info": {
   "codemirror_mode": {
    "name": "ipython",
    "version": 3
   },
   "file_extension": ".py",
   "mimetype": "text/x-python",
   "name": "python",
   "nbconvert_exporter": "python",
   "pygments_lexer": "ipython3",
   "version": "3.9.12"
  }
 },
 "nbformat": 4,
 "nbformat_minor": 5
}
