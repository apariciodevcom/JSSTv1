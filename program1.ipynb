{
 "cells": [
  {
   "cell_type": "markdown",
   "id": "32bd52c5",
   "metadata": {},
   "source": [
    "## Connect to AWS RDS PostgreSQL database\n"
   ]
  },
  {
   "cell_type": "code",
   "execution_count": 24,
   "id": "f64886ce",
   "metadata": {},
   "outputs": [],
   "source": [
    "import pandas as pd\n",
    "import numpy as np\n",
    "from sqlalchemy import create_engine\n",
    "from sqlalchemy import select\n",
    "\n",
    "#Generates database connection\n",
    "db_conn=pd.read_csv('rds_credentials.txt') #For security reasons ;-)\n",
    "db_conn=db['conn'].iloc[0]\n",
    "engine = create_engine(db_conn)"
   ]
  },
  {
   "cell_type": "code",
   "execution_count": 25,
   "id": "da399d61",
   "metadata": {},
   "outputs": [],
   "source": [
    "df=pd.read_sql('jrp_keywords', engine, index_col=None)"
   ]
  },
  {
   "cell_type": "code",
   "execution_count": 26,
   "id": "070a079b",
   "metadata": {},
   "outputs": [
    {
     "data": {
      "text/html": [
       "<div>\n",
       "<style scoped>\n",
       "    .dataframe tbody tr th:only-of-type {\n",
       "        vertical-align: middle;\n",
       "    }\n",
       "\n",
       "    .dataframe tbody tr th {\n",
       "        vertical-align: top;\n",
       "    }\n",
       "\n",
       "    .dataframe thead th {\n",
       "        text-align: right;\n",
       "    }\n",
       "</style>\n",
       "<table border=\"1\" class=\"dataframe\">\n",
       "  <thead>\n",
       "    <tr style=\"text-align: right;\">\n",
       "      <th></th>\n",
       "      <th>id_keyword</th>\n",
       "      <th>keyword</th>\n",
       "    </tr>\n",
       "  </thead>\n",
       "  <tbody>\n",
       "    <tr>\n",
       "      <th>0</th>\n",
       "      <td>1</td>\n",
       "      <td>solve high impact business problems</td>\n",
       "    </tr>\n",
       "    <tr>\n",
       "      <th>1</th>\n",
       "      <td>2</td>\n",
       "      <td>understanding claims</td>\n",
       "    </tr>\n",
       "    <tr>\n",
       "      <th>2</th>\n",
       "      <td>3</td>\n",
       "      <td>portfolio optimization</td>\n",
       "    </tr>\n",
       "    <tr>\n",
       "      <th>3</th>\n",
       "      <td>4</td>\n",
       "      <td>high impact projects</td>\n",
       "    </tr>\n",
       "    <tr>\n",
       "      <th>4</th>\n",
       "      <td>5</td>\n",
       "      <td>end-to-end responsibility</td>\n",
       "    </tr>\n",
       "  </tbody>\n",
       "</table>\n",
       "</div>"
      ],
      "text/plain": [
       "   id_keyword                              keyword\n",
       "0           1  solve high impact business problems\n",
       "1           2                 understanding claims\n",
       "2           3               portfolio optimization\n",
       "3           4                 high impact projects\n",
       "4           5            end-to-end responsibility"
      ]
     },
     "execution_count": 26,
     "metadata": {},
     "output_type": "execute_result"
    }
   ],
   "source": [
    "df.head()"
   ]
  },
  {
   "cell_type": "code",
   "execution_count": 27,
   "id": "26e3c07b",
   "metadata": {},
   "outputs": [
    {
     "name": "stdout",
     "output_type": "stream",
     "text": [
      "and     72\n",
      "to      32\n",
      "of      31\n",
      "the     29\n",
      "in      28\n",
      "with    16\n",
      "a       13\n",
      "data    10\n",
      "or      10\n",
      "on      10\n",
      "dtype: int64\n"
     ]
    }
   ],
   "source": [
    "pd.set_option('display.max_rows', None)\n",
    "# Palabras frecuentes\n",
    "freq = pd.Series(' '.join(df['keyword']).split()).value_counts()[:10]\n",
    "print(freq)"
   ]
  },
  {
   "cell_type": "code",
   "execution_count": 34,
   "id": "61c1acd7",
   "metadata": {},
   "outputs": [],
   "source": [
    "sql=\"SELECT keyword FROM jrp_keywords WHERE id_keyword =3\"\n",
    "df=pd.read_sql(sql, engine, index_col=None)"
   ]
  },
  {
   "cell_type": "code",
   "execution_count": 35,
   "id": "ba556dfb",
   "metadata": {},
   "outputs": [
    {
     "data": {
      "text/html": [
       "<div>\n",
       "<style scoped>\n",
       "    .dataframe tbody tr th:only-of-type {\n",
       "        vertical-align: middle;\n",
       "    }\n",
       "\n",
       "    .dataframe tbody tr th {\n",
       "        vertical-align: top;\n",
       "    }\n",
       "\n",
       "    .dataframe thead th {\n",
       "        text-align: right;\n",
       "    }\n",
       "</style>\n",
       "<table border=\"1\" class=\"dataframe\">\n",
       "  <thead>\n",
       "    <tr style=\"text-align: right;\">\n",
       "      <th></th>\n",
       "      <th>keyword</th>\n",
       "    </tr>\n",
       "  </thead>\n",
       "  <tbody>\n",
       "    <tr>\n",
       "      <th>0</th>\n",
       "      <td>portfolio optimization</td>\n",
       "    </tr>\n",
       "  </tbody>\n",
       "</table>\n",
       "</div>"
      ],
      "text/plain": [
       "                  keyword\n",
       "0  portfolio optimization"
      ]
     },
     "execution_count": 35,
     "metadata": {},
     "output_type": "execute_result"
    }
   ],
   "source": [
    "df"
   ]
  },
  {
   "cell_type": "code",
   "execution_count": 36,
   "id": "2f7c2f2e",
   "metadata": {},
   "outputs": [],
   "source": [
    "lista=np.arange(1,27)\n",
    "for tech in lista:\n",
    "    insert='INSERT INTO public.jrp_company_tech(id_co, id_tech) VALUES (1, '+str(tech)+');' #don't work!\n",
    "    pd.read_sql_query(sql, engine, index_col=None)"
   ]
  },
  {
   "cell_type": "code",
   "execution_count": null,
   "id": "41b5d77f",
   "metadata": {},
   "outputs": [],
   "source": []
  }
 ],
 "metadata": {
  "kernelspec": {
   "display_name": "Python 3 (ipykernel)",
   "language": "python",
   "name": "python3"
  },
  "language_info": {
   "codemirror_mode": {
    "name": "ipython",
    "version": 3
   },
   "file_extension": ".py",
   "mimetype": "text/x-python",
   "name": "python",
   "nbconvert_exporter": "python",
   "pygments_lexer": "ipython3",
   "version": "3.9.12"
  }
 },
 "nbformat": 4,
 "nbformat_minor": 5
}
