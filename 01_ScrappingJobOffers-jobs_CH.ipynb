{
 "cells": [
  {
   "cell_type": "markdown",
   "id": "27c29023",
   "metadata": {},
   "source": [
    "# Description of this Notebook\n",
    "\n",
    "\n",
    "<p>This notebook allows you to quickly extract information about job offers on Linkedin, the data comes out of the first screen when you make a query on Linkedin, for example: \"Data Analyst\".</p>\n",
    "<p>The fields we extract are:</p>\n",
    "<ol>\n",
    "  <li>Company Name</li>\n",
    "  <li>Job Position</li>\n",
    "  <li>Location</li>\n",
    "  <li>Link</li>\n",
    "</ol> \n",
    "\n",
    "Note: Don't forget check the version of your web navigator and download the apropiate version of [Chromedriver](https://chromedriver.chromium.org/home)."
   ]
  },
  {
   "cell_type": "code",
   "execution_count": null,
   "id": "d918f450",
   "metadata": {},
   "outputs": [],
   "source": [
    "#Import libraries\n",
    "import pandas as pd\n",
    "import re\n",
    "from selenium import webdriver\n",
    "from selenium.webdriver.common.keys import Keys\n",
    "from selenium.common.exceptions import NoSuchElementException\n",
    "import time\n",
    "\n",
    "import numpy as np\n",
    "from sqlalchemy import create_engine #Optional, if you want to export data to a Postgres database\n",
    "from selenium.webdriver.support.ui import WebDriverWait\n",
    "from selenium.webdriver.common.by import By\n",
    "from selenium.webdriver.support import expected_conditions as EC\n",
    "\n",
    "browser=webdriver.Chrome(\"chromedriver.exe\")\n",
    "\n",
    "# Put the web page with your search results\n",
    "#browser.get(\"https://www.jobs.ch/en/vacancies/?term=Data%20Analyst\") #Enter web to scrap\n",
    "#https://www.jobs.ch/en/vacancies/?page=2&term=Data%20Analyst\n"
   ]
  },
  {
   "cell_type": "code",
   "execution_count": null,
   "id": "c70f342e",
   "metadata": {},
   "outputs": [],
   "source": [
    "def scrapping(page):\n",
    "    browser.get(\"https://www.jobs.ch/en/vacancies/?page=\"+str(page)+\"&term=Developer\") #Enter web to scrap\n",
    "    job=browser.find_elements_by_class_name(\"bKvYAo\")\n",
    "    c=[]\n",
    "    href=[]\n",
    "    for i in job:\n",
    "        try:\n",
    "            c.append(i.text)\n",
    "            href.append(i.get_attribute('href'))\n",
    "        except NoSuchElementException:\n",
    "            print('error')\n",
    "    col=[\"Job Position\",\"Link\"]\n",
    "    df=pd.DataFrame({\"Job Position\":c,\"Link\":href})\n",
    "    #Export the results\n",
    "    df.to_csv(\"st_221119_\"+str(page)+\".csv\")\n",
    "    df.shape"
   ]
  },
  {
   "cell_type": "code",
   "execution_count": null,
   "id": "83a755c4",
   "metadata": {},
   "outputs": [],
   "source": [
    "pages=np.arange(2,99)\n",
    "for pag in pages:\n",
    "    scrapping(pag)"
   ]
  },
  {
   "cell_type": "code",
   "execution_count": null,
   "id": "9f3ae132",
   "metadata": {},
   "outputs": [],
   "source": [
    "df=[]\n",
    "files=np.arange(2,99)\n",
    "\n",
    "for file in files:\n",
    "    data=pd.read_csv('st_221119_'+str(file)+'.csv')\n",
    "    #Store DataFrame in list\n",
    "    df.append(data)\n",
    "df=pd.concat(df)\n",
    "df.shape"
   ]
  },
  {
   "cell_type": "code",
   "execution_count": null,
   "id": "a12b2f85",
   "metadata": {},
   "outputs": [],
   "source": [
    "df.to_csv(\"st_221119_DA3.csv\")"
   ]
  },
  {
   "cell_type": "code",
   "execution_count": null,
   "id": "95cb635c",
   "metadata": {},
   "outputs": [],
   "source": [
    "df=[]\n",
    "files=np.arange(1,4)\n",
    "\n",
    "for file in files:\n",
    "    data=pd.read_csv('st_221119_DA'+str(file)+'.csv')\n",
    "    #Store DataFrame in list\n",
    "    df.append(data)\n",
    "df=pd.concat(df)\n",
    "df.shape"
   ]
  },
  {
   "cell_type": "code",
   "execution_count": null,
   "id": "61fe1421",
   "metadata": {},
   "outputs": [],
   "source": [
    "df.to_csv(\"st_221119_DA4.csv\")"
   ]
  },
  {
   "cell_type": "code",
   "execution_count": null,
   "id": "db05487c",
   "metadata": {},
   "outputs": [],
   "source": [
    "df.head()"
   ]
  },
  {
   "cell_type": "code",
   "execution_count": null,
   "id": "19234d00",
   "metadata": {},
   "outputs": [],
   "source": [
    "data=df[{'Job Position','Link'}]"
   ]
  },
  {
   "cell_type": "code",
   "execution_count": null,
   "id": "c49cd6be",
   "metadata": {},
   "outputs": [],
   "source": [
    "data.shape"
   ]
  },
  {
   "cell_type": "code",
   "execution_count": null,
   "id": "91f731f5",
   "metadata": {},
   "outputs": [],
   "source": [
    "# Drop duplicates\n",
    "data = data.drop_duplicates(subset = ['Link'])\n",
    "df.shape"
   ]
  },
  {
   "cell_type": "code",
   "execution_count": null,
   "id": "91571417",
   "metadata": {},
   "outputs": [],
   "source": [
    "df.to_csv(\"st_221119_DA5.csv\")"
   ]
  },
  {
   "cell_type": "code",
   "execution_count": null,
   "id": "36e3de54",
   "metadata": {},
   "outputs": [],
   "source": [
    "import pandas as pd\n",
    "data=pd.read_csv('st_221119_DA5.csv')"
   ]
  },
  {
   "cell_type": "code",
   "execution_count": null,
   "id": "be38b44c",
   "metadata": {},
   "outputs": [],
   "source": [
    "data.head()"
   ]
  },
  {
   "cell_type": "code",
   "execution_count": null,
   "id": "5c71b29b",
   "metadata": {},
   "outputs": [],
   "source": [
    "data['jp']=data['Job Position'].apply(lambda x: \" \".join(x.lower() for x in x.split()))"
   ]
  },
  {
   "cell_type": "code",
   "execution_count": null,
   "id": "e3549ece",
   "metadata": {},
   "outputs": [],
   "source": [
    "print(data['jp'])"
   ]
  },
  {
   "cell_type": "code",
   "execution_count": null,
   "id": "712bc7ce",
   "metadata": {},
   "outputs": [],
   "source": [
    "import re\n",
    "data['jp']=data['jp'].map(lambda x: re.sub(r'\\W+',' ',x))"
   ]
  },
  {
   "cell_type": "code",
   "execution_count": null,
   "id": "49aab782",
   "metadata": {},
   "outputs": [],
   "source": [
    "print(data['jp'])"
   ]
  },
  {
   "cell_type": "code",
   "execution_count": null,
   "id": "8cec90a7",
   "metadata": {},
   "outputs": [],
   "source": [
    "#Rewiew word frequency in jp\n",
    "freq = pd.Series(' '.join(data['jp']).split()).value_counts()[100:150]\n",
    "print(freq)"
   ]
  },
  {
   "cell_type": "code",
   "execution_count": null,
   "id": "15ca7e35",
   "metadata": {},
   "outputs": [],
   "source": [
    "data = data.reset_index()"
   ]
  },
  {
   "cell_type": "code",
   "execution_count": null,
   "id": "9c0a3450",
   "metadata": {},
   "outputs": [],
   "source": [
    "data"
   ]
  },
  {
   "cell_type": "code",
   "execution_count": null,
   "id": "6d8c3aec",
   "metadata": {},
   "outputs": [],
   "source": [
    "data=data[{'jp','Link'}]"
   ]
  },
  {
   "cell_type": "code",
   "execution_count": null,
   "id": "b583168b",
   "metadata": {},
   "outputs": [],
   "source": [
    "data"
   ]
  },
  {
   "cell_type": "code",
   "execution_count": null,
   "id": "60b5676b",
   "metadata": {},
   "outputs": [],
   "source": [
    "data.to_csv(\"st_221119_DA6.csv\")"
   ]
  },
  {
   "cell_type": "code",
   "execution_count": null,
   "id": "26795bbd",
   "metadata": {},
   "outputs": [],
   "source": [
    "new=data[\"jp\"].str.rsplit(\"2022\", n = 1, expand = True)"
   ]
  },
  {
   "cell_type": "code",
   "execution_count": null,
   "id": "76f6c27f",
   "metadata": {
    "scrolled": true
   },
   "outputs": [],
   "source": [
    "data[\"pub\"]= new[1] "
   ]
  },
  {
   "cell_type": "code",
   "execution_count": null,
   "id": "cb612130",
   "metadata": {},
   "outputs": [],
   "source": [
    "data"
   ]
  },
  {
   "cell_type": "code",
   "execution_count": null,
   "id": "d7809d47",
   "metadata": {},
   "outputs": [],
   "source": [
    "data['del']= data['jp'].apply(lambda x: 1 if 'open in new tab' in x else 0)"
   ]
  },
  {
   "cell_type": "code",
   "execution_count": null,
   "id": "0c15e4ec",
   "metadata": {},
   "outputs": [],
   "source": [
    "data"
   ]
  },
  {
   "cell_type": "code",
   "execution_count": null,
   "id": "a5174e9d",
   "metadata": {},
   "outputs": [],
   "source": [
    "new2=data[\"pub\"].str.rsplit(\" \", n = 1, expand = True)"
   ]
  },
  {
   "cell_type": "code",
   "execution_count": null,
   "id": "f7d66023",
   "metadata": {},
   "outputs": [],
   "source": [
    "data[\"mes\"]= new2[1] "
   ]
  },
  {
   "cell_type": "code",
   "execution_count": null,
   "id": "12dce78c",
   "metadata": {},
   "outputs": [],
   "source": [
    "data[\"dia\"]= new2[0] "
   ]
  },
  {
   "cell_type": "code",
   "execution_count": null,
   "id": "c1ae5fe0",
   "metadata": {},
   "outputs": [],
   "source": [
    "data"
   ]
  },
  {
   "cell_type": "code",
   "execution_count": null,
   "id": "69981c6e",
   "metadata": {},
   "outputs": [],
   "source": [
    "new3=data[\"jp\"].str.rsplit(\"published\", n = 1, expand = True)"
   ]
  },
  {
   "cell_type": "code",
   "execution_count": null,
   "id": "32a1d748",
   "metadata": {},
   "outputs": [],
   "source": [
    "data[\"jp\"]= new3[0]"
   ]
  },
  {
   "cell_type": "code",
   "execution_count": null,
   "id": "f8aa76a6",
   "metadata": {},
   "outputs": [],
   "source": [
    "data"
   ]
  },
  {
   "cell_type": "code",
   "execution_count": null,
   "id": "86b2a506",
   "metadata": {},
   "outputs": [],
   "source": [
    "data=data[{'jp','Link','mes','dia'}]"
   ]
  },
  {
   "cell_type": "code",
   "execution_count": null,
   "id": "68607a35",
   "metadata": {},
   "outputs": [],
   "source": [
    "data"
   ]
  },
  {
   "cell_type": "code",
   "execution_count": null,
   "id": "15a25798",
   "metadata": {},
   "outputs": [],
   "source": [
    "data['analyst'] = data['jp'].apply(lambda x: 1 if 'analyst' in x else 0)"
   ]
  },
  {
   "cell_type": "code",
   "execution_count": null,
   "id": "505b2c85",
   "metadata": {},
   "outputs": [],
   "source": [
    "data = data.reset_index()"
   ]
  },
  {
   "cell_type": "code",
   "execution_count": null,
   "id": "395e3a35",
   "metadata": {},
   "outputs": [],
   "source": [
    "data.to_csv(\"st_221119_DA7.csv\")"
   ]
  },
  {
   "cell_type": "code",
   "execution_count": null,
   "id": "3dccaab5",
   "metadata": {},
   "outputs": [],
   "source": [
    "data2=data.query(\"analyst == 1\")"
   ]
  },
  {
   "cell_type": "code",
   "execution_count": null,
   "id": "4cae059a",
   "metadata": {},
   "outputs": [],
   "source": [
    "data2.shape"
   ]
  },
  {
   "cell_type": "code",
   "execution_count": 1,
   "id": "975b1e91",
   "metadata": {},
   "outputs": [
    {
     "ename": "NameError",
     "evalue": "name 'data2' is not defined",
     "output_type": "error",
     "traceback": [
      "\u001b[1;31m---------------------------------------------------------------------------\u001b[0m",
      "\u001b[1;31mNameError\u001b[0m                                 Traceback (most recent call last)",
      "Input \u001b[1;32mIn [1]\u001b[0m, in \u001b[0;36m<cell line: 1>\u001b[1;34m()\u001b[0m\n\u001b[1;32m----> 1\u001b[0m \u001b[43mdata2\u001b[49m\u001b[38;5;241m.\u001b[39mto_csv(\u001b[38;5;124m\"\u001b[39m\u001b[38;5;124mst_221119_DA8.csv\u001b[39m\u001b[38;5;124m\"\u001b[39m)\n",
      "\u001b[1;31mNameError\u001b[0m: name 'data2' is not defined"
     ]
    }
   ],
   "source": [
    "data2.to_csv(\"st_221119_DA8.csv\")   #de este se necesita la informacion"
   ]
  },
  {
   "cell_type": "code",
   "execution_count": null,
   "id": "c1903d03",
   "metadata": {},
   "outputs": [],
   "source": [
    "#UN muestreo random del 5%\n",
    "data3=data2.sample(frac=0.02, replace=True, random_state=1)"
   ]
  },
  {
   "cell_type": "code",
   "execution_count": null,
   "id": "7b5e748c",
   "metadata": {},
   "outputs": [],
   "source": [
    "data3.shape"
   ]
  },
  {
   "cell_type": "code",
   "execution_count": null,
   "id": "777eac1f",
   "metadata": {},
   "outputs": [],
   "source": [
    "import pandas as pd\n",
    "import numpy as np\n",
    "from sqlalchemy import create_engine\n",
    "\n",
    "from selenium.webdriver.support.ui import WebDriverWait\n",
    "from selenium.webdriver.common.by import By\n",
    "from selenium.webdriver.support import expected_conditions as EC\n",
    "\n",
    "import re\n",
    "from selenium import webdriver\n",
    "from selenium.webdriver.common.keys import Keys\n",
    "from selenium.common.exceptions import NoSuchElementException\n",
    "import time\n",
    "\n",
    "browser=webdriver.Chrome(\"chromedriver.exe\")\n",
    "list_urls=data3['Link']"
   ]
  },
  {
   "cell_type": "code",
   "execution_count": null,
   "id": "5337fcf1",
   "metadata": {},
   "outputs": [],
   "source": [
    "def scrap2(data):\n",
    "    list_urls=data['Link']\n",
    "    for url in list_urls:\n",
    "        print(url)"
   ]
  },
  {
   "cell_type": "code",
   "execution_count": null,
   "id": "2ddb856f",
   "metadata": {},
   "outputs": [],
   "source": [
    "scrap2(data3)"
   ]
  },
  {
   "cell_type": "code",
   "execution_count": null,
   "id": "eb1c033a",
   "metadata": {},
   "outputs": [],
   "source": [
    "testpage=data3['Link'].iloc[0]"
   ]
  },
  {
   "cell_type": "code",
   "execution_count": null,
   "id": "df7c8cd1",
   "metadata": {},
   "outputs": [],
   "source": [
    "def scrap(page):\n",
    "    browser.get(page)\n",
    "    job1=browser.find_elements_by_class_name(\"YVqFu\") #Funciona para nombre de compania\n",
    "    job2=browser.find_elements_by_class_name(\"C_PBODYHTML\")\n",
    "    for element in job2:\n",
    "        print(element.text)\n",
    "\n",
    "scrap(testpage)"
   ]
  },
  {
   "cell_type": "code",
   "execution_count": null,
   "id": "56d7ddb5",
   "metadata": {},
   "outputs": [],
   "source": [
    "for url in list_urls:\n",
    "    scrap(url)"
   ]
  },
  {
   "cell_type": "code",
   "execution_count": 2,
   "id": "39a8a74c",
   "metadata": {},
   "outputs": [],
   "source": [
    "import pandas as pd\n",
    "data=pd.read_csv('st_221119_DA8.csv')"
   ]
  },
  {
   "cell_type": "code",
   "execution_count": 3,
   "id": "b0d97216",
   "metadata": {},
   "outputs": [
    {
     "data": {
      "text/plain": [
       "(10, 7)"
      ]
     },
     "execution_count": 3,
     "metadata": {},
     "output_type": "execute_result"
    }
   ],
   "source": [
    "#UN muestreo random del 5%\n",
    "data2=data.sample(frac=0.02, replace=True, random_state=1)\n",
    "\n",
    "data2.shape"
   ]
  },
  {
   "cell_type": "code",
   "execution_count": 4,
   "id": "7f19aeba",
   "metadata": {},
   "outputs": [],
   "source": [
    "import pandas as pd\n",
    "import numpy as np\n",
    "from sqlalchemy import create_engine\n",
    "\n",
    "from selenium.webdriver.support.ui import WebDriverWait\n",
    "from selenium.webdriver.common.by import By\n",
    "from selenium.webdriver.support import expected_conditions as EC\n",
    "\n",
    "import re\n",
    "from selenium import webdriver\n",
    "from selenium.webdriver.common.keys import Keys\n",
    "from selenium.common.exceptions import NoSuchElementException\n",
    "import time\n",
    "\n",
    "browser=webdriver.Chrome(\"chromedriver.exe\")\n",
    "list_urls=data2['Link']"
   ]
  },
  {
   "cell_type": "code",
   "execution_count": null,
   "id": "fd4348d9",
   "metadata": {},
   "outputs": [],
   "source": [
    "def scrap2(data):\n",
    "    list_urls=data['Link']\n",
    "    for url in list_urls:\n",
    "        print(url)"
   ]
  },
  {
   "cell_type": "code",
   "execution_count": null,
   "id": "172eca4b",
   "metadata": {},
   "outputs": [],
   "source": [
    "scrap2(data2)"
   ]
  },
  {
   "cell_type": "code",
   "execution_count": 5,
   "id": "a7cc9ced",
   "metadata": {},
   "outputs": [
    {
     "name": "stdout",
     "output_type": "stream",
     "text": [
      "Power BI Developer / Data Analyst (80% - 100%)\n",
      "Swisscontact, Schweizerische Stiftung für technische Entwicklungszusammenarbeit\n",
      "Power BI Developer / Data Analyst (80% - 100%)\n",
      "Power BI Developer / Data Analyst (80% - 100%)\n",
      "Contract typeUnlimitedWorking locationZürichJob entry: Immediately or by arrangement / Contract duration: permanent employment\n",
      "Apply now\n",
      "Tasks\n",
      "\n",
      "Conceptualize, develop and roll-out state-of-the-art reporting solutions in Power BI (Premium Capacity) with data from our finance and business applications Abacus (Finance ERP), Microsoft Dynamics/MS 365, in the areas of Donor & Partner Management, Project Management, Finance and Administration\n",
      "\n",
      "Help us scale up and optimize our existing BI / DWH architecture and corresponding ETL processes \n",
      "\n",
      "Champion the digitalization of our key finance processes (budgeting, cost-monitoring, financial reporting) and promote self-service reporting functionality to relevant global stakeholders\n",
      "\n",
      "Significantly contribute to the development and maintenance of a coherent organization-wide and adaptive data model \n",
      " \n",
      "Requirements\n",
      "\n",
      "University of applied sciences degree in the fields of information technology, computer science or equivalent higher technical education \n",
      "\n",
      "At least 3 years of hands-on experience with the implementation and maintenance of data warehouses as well as corporate or departmental Power BI solutions \n",
      "\n",
      "Very good skills in data modelling and visualization (advanced practical knowledge of Power Query and DAX required) \n",
      "\n",
      "Process-oriented and structured thinking with the joy to analyse and independently resolve complex problems in a customer-focused manner\n",
      "\n",
      "Proactive, independent, and solution-oriented approach and resilience\n",
      "\n",
      "Business proficiency in English (written & spoken), German speaking is an advantage \n",
      " \n",
      "Swisscontact offers attractive working conditions in an international and multicultural context. We see our work as a joint effort in an agile organizational culture: mutual respect, trust and teamwork.\n",
      "We look forward to receiving your online application with the following documents: letter of motivation, curriculum vitae, diplomas and references.\n",
      "Contact person: Barbara Eich, HR Business Partner\n",
      "(barbara.eich@swisscontact.org)\n",
      "Swisscontact - Swiss Foundation for Technical Cooperation\n",
      "We are a leading partner organisation for the implementation of international development projects. Founded in 1959 and registered under Swiss law, we are an independent non-profit organisation. We are politically and denominationally neutral.\n",
      "Swisscontact offers attractive working conditions in an international and multicultural context. We see our work as ajoint effort in an agile organizational culture: mutual respect, trust and teamwork.\n",
      "Swiscontact is a leading partner organisation for the implementation of international development projects. We are represented in 38 countries with over 1 200 employees. The foundation is headquartered in Zurich, Switzerland.\n",
      "Swiscontact promotes inclusive economic, social and ecological development to make an effective contribution towards sustainable and widespread prosperity in developing and emerging economies.\n",
      "\n",
      "We strengthen the competencies of people, improving their employability\n",
      "\n",
      "We increase the competitiveness of enterprises, growing their business\n",
      "\n",
      "We foster social and economic systems, promoting inclusive development\n",
      "\n",
      "We believe that people, even in dire conditions have the ability and will to act and liberate themselves from the shackles of poverty. However, this is only possible in an enabling environment and level playing field.\n",
      "Swisscontact stands for professional quality and high ethical standards in its activities.\n",
      "FoundationFounded in 1959 and registered under Swiss law, we are an independent non-profit organisation. We are politically and denominationally neutral.Learn moreTeamThe abilities and readiness for action of our employees are decisive for our projects’ ability to achieve sustainable impact, as well as our long-term success. As an attractive employer, Swisscontact invests in a positive management and work culture. This is defined by our fundamental understanding of development intended to serve not only our beneficiaries in project countries but our employees as well.Learn moreMission statementWe promote inclusive economic, social and ecological development to make an effective contribution towards sustainable and widespread prosperity in developing and emerging economies. With this objective in mind, we offer the chance to economically and socially disadvantaged people to improve their lives on their own initiative.Learn more\n",
      "Power BI Developer / Data Analyst (80% - 100%)\n",
      "Contract typeUnlimitedWorking locationZürichJob entry: Immediately or by arrangement / Contract duration: permanent employment\n",
      "Apply now\n"
     ]
    }
   ],
   "source": [
    "def scrap(page):\n",
    "    browser.get(page)\n",
    "    job1=browser.find_elements_by_class_name(\"YVqFu\") #Funciona para nombre del puesto\n",
    "    job2=browser.find_elements_by_class_name(\"kWjXGu\") #Funciona para nombre de compania\n",
    "    job3=browser.find_elements_by_class_name(\"dOmQK\") #Funciona para job description\n",
    "    for element in job1:\n",
    "        print(element.text)\n",
    "    for element in job2:\n",
    "        print(element.text)\n",
    "    for element in job3:\n",
    "        print(element.text)\n",
    "\n",
    "testpage=data2['Link'].iloc[9]\n",
    "\n",
    "scrap(testpage)"
   ]
  },
  {
   "cell_type": "code",
   "execution_count": 12,
   "id": "f7cedffe",
   "metadata": {},
   "outputs": [],
   "source": [
    "def get_page(page):\n",
    "    browser.get(page)\n",
    "    return(page)\n",
    "\n",
    "def scrap_jn(tag_name):\n",
    "    jobtn=browser.find_elements_by_class_name(tag_name)\n",
    "    jdn=[]\n",
    "    for jn in jobtn:\n",
    "        try:\n",
    "            text=jn.text\n",
    "            print(text)\n",
    "            jdn.append(text)\n",
    "        except NoSuchElementException:\n",
    "            text='N/A'\n",
    "            print(text)\n",
    "            jdn.append(text)\n",
    "            print(\"error\")\n",
    "    return(jdn)\n",
    "\n",
    "def scrap_nc(tag_name):\n",
    "    jobnc=browser.find_elements_by_class_name(tag_name)\n",
    "    jnc=[]\n",
    "    for nc in jobnc:\n",
    "        try:\n",
    "            text=nc.text\n",
    "            print(text)\n",
    "            jnc.append(text)\n",
    "        except NoSuchElementException:\n",
    "            text='N/A'\n",
    "            print(text)\n",
    "            jnc.append(text)\n",
    "            print(\"error\")\n",
    "    return(jnc)\n",
    "\n",
    "def scrap_jd(tag_name):\n",
    "    jobd=browser.find_elements_by_class_name(tag_name)\n",
    "    jd=[]\n",
    "    for jdt in jobd:\n",
    "        try:\n",
    "            text=jdt.text\n",
    "            print(text)\n",
    "            jd.append(text)\n",
    "        except NoSuchElementException:\n",
    "            text='N/A'\n",
    "            print(text)\n",
    "            jd.append(text)\n",
    "            print(\"error\")\n",
    "    return(jd)"
   ]
  },
  {
   "cell_type": "code",
   "execution_count": null,
   "id": "819e6f21",
   "metadata": {},
   "outputs": [],
   "source": [
    "testpage=data2['Link'].iloc[0]\n",
    "get_page(testpage)\n"
   ]
  },
  {
   "cell_type": "code",
   "execution_count": null,
   "id": "fdcff26e",
   "metadata": {},
   "outputs": [],
   "source": [
    "scrap_jd(\"dOmQK\")\n"
   ]
  },
  {
   "cell_type": "code",
   "execution_count": 8,
   "id": "b6b91f65",
   "metadata": {},
   "outputs": [],
   "source": [
    "def scrapjob(list_url):\n",
    "    for url in list_url:\n",
    "        get_page(url)\n",
    "        scrap_jn(\"YVqFu\")  #Funciona para nombre del puesto\n",
    "        scrap_nc(\"kWjXGu\") #Funciona para nombre de compania\n",
    "        scrap_jn(\"dOmQK\") #Funciona para job description\n",
    "        print(url)\n"
   ]
  },
  {
   "cell_type": "code",
   "execution_count": 13,
   "id": "1d0091e7",
   "metadata": {},
   "outputs": [
    {
     "name": "stdout",
     "output_type": "stream",
     "text": [
      "Business Analyst (100%)\n",
      "ISO - Organisation Internationale de Normalisation\n",
      "\n",
      "https://www.jobs.ch/en/vacancies/detail/d1e0fc74-cb47-4afb-87df-2de7ac18f19d/?source=vacancy_search\n",
      "Senior Business Analyst Full-Time\n",
      "NetGuardians SA\n",
      "Senior Business Analyst Full-Time\n",
      "As a Senior Business Analyst – Fraud Prevention, you will build the business bridge between our customers and our solution. Your business understanding of Fraud prevention and AML will guide NetGuardians innovative AI solutions to best meet clients’ needs.\n",
      "As Fraud and AML expert, you will be responsible for performing requirements analysis so to understand and design the solution on our platform as well as creating and update functional internal and external documentation. In addition, you will ensure the solution design meets the requirements through Quality Insurance, by being the first point of contact during projects.\n",
      "In this cornerstone position, you will collect and maintain fraud cases and statistics from customers for Marketing, Sales and Data Science usage. During RFI/RFP processes, you will bring your Fraud & risk expertise to our Sales and Presales team. You will support other teams and regions for business related topics and constantly be on the lookout for fraud trends. Finally, you will ensure to package the improvements of all new projects into our internal documentation as well as analyze missed frauds reported by customers.\n",
      "Your profile\n",
      "You are eager to learn and adapt quickly, having the ability to work with high autonomy as well as remotely with transversal teams. You possess excellent communication skills and are a natural team player, with a multicultural awareness and a flexible mindset. You have an appetite for innovation, a strong interest in technology & financial institutions and an impressive work ethic.\n",
      "• Master’s degree in Computer Science and/or Business\n",
      "• 10 years’ experience in a relevant field\n",
      "• 3 years’ experience in a similar role\n",
      "• Experience in IT projects delivery within financial institution or Consulting Firm is a must\n",
      "• Wide understanding of FinCrime, Fraud & AML fields\n",
      "• Excellent verbal and written communication skills in English\n",
      "• Fraud and AML certifications are a plus\n",
      "Why join us\n",
      "• An international experience with a global customer base\n",
      "• A dynamic environment with passionate colleagues\n",
      "• The opportunity to be a part of an exciting adventure\n",
      "• Innovative business with cutting-edge technologies\n",
      "This is an exceptional opportunity to join a fast growing successful and innovative company\n",
      "https://www.jobs.ch/en/vacancies/detail/513ab86c-1400-4969-9a5f-3ec9ba8c674b/?source=vacancy_search\n",
      "Data Analyst / Kalkulator 60-100%\n",
      "Vifian Möbelwerkstätte AG\n",
      "Data Analyst / Kalkulator 60-100%\n",
      "Vifian kreiert Individualität, Spirit und Lifestyle im Raum. Mit unseren Produkten und Lösungen bewegen wir private Kunden genauso wie Architekten und Planer. Gemeinsam erschaffen wir Wohn- und Arbeitsräume, die berühren und inspirieren. Kannst du dich mit unserem Unternehmen identifizieren? Dann bewirb dich bei uns als:\n",
      "Data Analyst / Kalkulator (M/W) 60-100%\n",
      "Wie du unser Team ergänzt\n",
      "\n",
      "Du erstellst komplette Kalkulationen im Rahmen von Offert-Anfragen und Devis für allgemeine Innenausbauten bis hin zu anspruchsvollen, individuellen Kundenprojekten\n",
      "\n",
      "Du begleitest die Projekte in der Offert Phase und führst zusammen mit den Account- Managern die Auftragsverhandlungen\n",
      "\n",
      "Du arbeitest eng mit unserem Einkauf, den Projektleitern und den Account Managern zusammen, um die gemeinsam gesteckten Ziele in der Auftragsgewinnung zu erreichen. Was Dich persönlich ausmacht\n",
      "\n",
      "Was dich persönlich ausmacht:\n",
      "\n",
      "Du stammst aus dem beruflichen Umfeld des holzverarbeitenden Gewerbes\n",
      "\n",
      "Du interessierst Dich für Zahlen, produktionstechnische Abläufe und technisch-/gestalterische Aufgabenstellungen\n",
      "\n",
      "Du arbeitest gerne im Team und leistet dabei mit Deiner Kompetenz einen wichtigen Beitrag für optimale Zielerreichungen\n",
      "\n",
      "Du hast idealerweise bereits Erfahrung in einer ähnlichen Tätigkeit oder bringst grosses Interesse und Motivation mit, um Dich in diesem Arbeitsgebiet zu entfalten\n",
      "\n",
      "Wie du dich bei uns entfalten kannst:\n",
      "\n",
      "Mit zeitgemässen Tools bieten wir Dir digital ein modernes Umfeld\n",
      "\n",
      "In einer Unternehmung mit Tradition findest Du Startup-Mentalität\n",
      "\n",
      "Sprechen dich diese Menschen und Projekte an? Dann bewerbe dich bei uns.\n",
      "Deine Ansprechperson:\n",
      "Vifian Möbelwerkstätte AG\n",
      "Simon Blum\n",
      "Freiburgstrasse 28\n",
      "3150 Schwarzenburg\n",
      "+41 34 420 01 23\n",
      "Deine Bewerbung:\n",
      "HiddenBewerbung als HiddenKontakt EmailVorname(*)Nachname(*)Email(*)Telefon(*)Bewerbungsschreiben(*)Max. Dateigröße: 16 MB.Lebenslauf(*)Max. Dateigröße: 16 MB.Zeugnisse(*)Max. Dateigröße: 16 MB.Andere BeilagenZiehe Dateien hier her oder Wähle Dateien ausMax. Dateigröße: 16 MB.NameDieses Feld dient zur Validierung und sollte nicht verändert werden.\n",
      "Δ\n",
      "https://www.jobs.ch/en/vacancies/detail/2ae5df54-881c-476d-a239-9a8f56e8cd65/?source=vacancy_search\n",
      "Junior Business-Analyst / ICT-Architekt\n",
      "RUAG AG\n",
      "\n",
      "https://www.jobs.ch/en/vacancies/detail/d85dbe1c-6fc0-42ae-9112-4a7cdcf3a8d8/?source=vacancy_search\n",
      "QC Analyst II (80-100%*)\n",
      "Novartis AG\n",
      "QC Analyst II (80-100%*)\n",
      "Job ID 348578BR Jul 29, 2022 Switzerland\n",
      "Job Description\n",
      "766 million! That's how many patients' lives were touched by our products in 2021. At Novartis, we are reimagining medicine to improve and extend people's lives. We use innovative science and technology to address some of society's most challenging healthcare issues. We discover and develop breakthrough treatments and find new ways to deliver them to as many people as possible. How can we continue to advance our science to help even more patients in need? We believe the answers are found when curious, courageous, and collaborative people are empowered to ask new questions, make bolder decisions, and take smarter risks.\n",
      "\n",
      "In our NTO division we are looking for a highly motivated QC Analyst II who will execute of assigned tasks in the quality control laboratory in accordance with cGxP regulations and add additional value to our team of professionals. In this role you will ensure orders are processed correctly and quickly, with no waiting times due to wrong or delayed order. You will manage deadline adherence rate: orders completed on time, all missed deadlines reported in good time, the shortest possible lead time, as well as ensure constant readiness for inspection, no critical complaints from superiors and inspectors. You will consistently follow the GMP and GSU guidelines, as well as the SOPs, no critical irregularities and find/implement optimization options to reduce costs.\n",
      "\n",
      "We are looking for you, who will become a role model for the team in terms of values and behaviour and set an example of self-empowerment. Join us!\n",
      "\n",
      "Major responsibilities:\n",
      "\n",
      "• Execution of assigned tasks in the quality control laboratory in accordance with cGxP regulations.\n",
      "\n",
      "• Performance of timely analyses.\n",
      "\n",
      "• Performing of raw data checks\n",
      "\n",
      "• Role model for the team in terms of values & behaviour\n",
      "\n",
      "• Self-empowerment\n",
      "\n",
      "Diversity & Inclusion / EEO\n",
      "Novartis is committed to building an outstanding, inclusive work environment and diverse teams representative of the patients and communities we serve.\n",
      "Minimum Requirements\n",
      "- Completed apprenticeship as a laboratory assistant or equivalent training\n",
      "- Experience on the job: 1-5 years\n",
      "- Self initiative individual\n",
      "- A team player, but also able to work independently\n",
      "\n",
      "*Some restrictions on flexible working options may apply and will be discussed during interview if applicable.\n",
      "\n",
      "Join our Novartis Network:\n",
      "\n",
      "If this role is not suitable to your experience or career goals but you wish to stay connected to learn more about Novartis and our career opportunities, join the Novartis Network here:\n",
      "\n",
      "https://talentnetwork.novartis.com/network\n",
      "\n",
      "Why Novartis?\n",
      "766 million lives were touched by Novartis medicines in 2021, and while we’re proud of this, we know there is so much more we could do to help improve and extend people’s lives.\n",
      "\n",
      "We believe new insights, perspectives and ground-breaking solutions can be found at the intersection of medical science and digital innovation. That a diverse, equitable and inclusive environment inspires new ways of working.\n",
      "\n",
      "We believe our potential can thrive and grow in an unbossed culture underpinned by integrity, curiosity and flexibility. And we can reinvent what's possible, when we collaborate with courage to aggressively and ambitiously tackle the world’s toughest medical challenges. Because the greatest risk in life, is the risk of never trying!\n",
      "\n",
      "Imagine what you could do here at Novartis!Division Novartis Technical Operations Business Unit NTO QUALITY Location Switzerland Site Stein (Säckingen) Company / Legal Entity Novartis Pharma AG Functional Area Quality Job Type Full Time Employment Type Temporary Shift Work No Apply to JobAccess Job Account\n",
      "https://www.jobs.ch/en/vacancies/detail/64ff077e-fbd1-47d7-94aa-15b6ad412fac/?source=vacancy_search\n"
     ]
    },
    {
     "name": "stdout",
     "output_type": "stream",
     "text": [
      "Lead Data Analyst\n",
      "deskbird AG\n",
      "Lead Data Analyst\n",
      "About the role\n",
      "We are looking for a highly driven data analyst who wants to be at the epicentre of building up our data infrastructure. If unlocking untapped growth potential in the world of hybrid work makes your heart beat faster, please read on. Our goal is to build the most loved employee products in the history of B2B. We will only achieve this if we truly understand our users. Help us to get there by extracting data around our product usage. \n",
      "You will\n",
      "As our full-time data crack, you’ll partner closely with Product, UX, Sales and Customer Success to:\n",
      "\n",
      "Build up data pipelines around product usage and customer behavior to \n",
      "\n",
      "Turn data into actionable insights, dashboards and reports to drive product & business decisions. Yes, you will have a direct influence on roadmaps and sprints.\n",
      "\n",
      "Design events to track the success of new and existing product features\n",
      "\n",
      "Design & analyze A/B tests\n",
      "\n",
      "Proactively spot opportunities and trends in product & business data that will help us drive growth and make us fall in love with data\n",
      "\n",
      "You have\n",
      "\n",
      "Advanced SQL knowledge and experience working with relational databases (Postgres, MySQL or similar)\n",
      "\n",
      "Experience building and optimizing data pipelines, architectures, and data sets - preferably in Python\n",
      "\n",
      "Experience with data ETL/ELT tools (e.g. Airflow, Fivetran, Hevo, Census, Hightouch etc.)\n",
      "\n",
      "Experience building BI & CS dashboards (Gainsight, Churnzero or similar)\n",
      "\n",
      "A hands-on approach to work and enjoy having little overhead\n",
      "\n",
      "Experience with Big Query would be a big plus\n",
      "\n",
      "You are\n",
      "\n",
      "In love with data. You'd be crunching numbers even if you weren't paid to do it.\n",
      "\n",
      "Comfortable being a manager of one\n",
      "\n",
      "Passionate about solving problems\n",
      "\n",
      "A great communicator and enjoy working cross-functionally to understand requirements and advise different teams\n",
      "\n",
      "Excited about taking ownership & responsibility and building our data infrastructure up from scratch\n",
      "\n",
      "Fluent in English (German is a plus)\n",
      "\n",
      "Why us?\n",
      "Besides an amazing working environment, we offer very competitive salary packages including equity and up to 10k€ in annual benefits:\n",
      "\n",
      "Company-wide summit: We bring everyone in the company together in varying locations across Europe for a couple of days per year. Check out the video of our last company summit \n",
      "\n",
      "“Bursts”: We support you and your team to get together in one location whenever you need a face-to-face meeting.\n",
      "\n",
      "Visit a deskbird: deskbirds are spread across exciting areas all over Europe and beyond. We encourage everyone to visit each other and expand your travel experiences.\n",
      "\n",
      "Home office equipment: We are a remote-first company and we will support you financially in creating the home office environment that you nee\n",
      "\n",
      "Coworking budget: Take a spot in a modern coworking space around your corner \n",
      "\n",
      "Well-being: Sometimes we need to take a break, e.g. to strengthen our mental well-being. The wellness budget is there to ease your mind on this!\n",
      "\n",
      "Learning and development: We support our employees’ future careers and education by offering a yearly development budget they can freely use for coaching, certification and conferences.\n",
      "\n",
      "and many more\n",
      "\n",
      "Apply for this position\n",
      "About us\n",
      "Deskbird helps companies to bring back culture and make hybrid work, with the most user-friendly hybrid workplace app on earth. Employees can see when their colleagues plan to come to the office and book a desk next to them in only 2 clicks. We are a remote-first team with hubs in St. Gallen, Munich, Bucharest, Sofia and Belgrade and you will have the pleasure to work with international talents from 18 different nationalities across different locations.\n",
      "\n",
      "Apply for this position\n",
      "https://www.jobs.ch/en/vacancies/detail/a08c5c36-f3a5-44bf-b4db-6c1ee1884015/?source=vacancy_search\n",
      "Experienced Business Analyst\n",
      "FINCONS GROUP AG\n",
      "Experienced Business Analyst\n",
      "Fincons Group is global player in the field of IT consulting with over 2,100 employees worldwide and are one of the leading Swiss software and consulting companies. We are a reliable partner in designing, implementing, and maintaining information technology which enable businesses to maintain their competitive advantage through our continuous innovation and sustainable R&D model. We are Fincons Group! A large and reliable global firm with the agility of a small start-up. With your passion, support, and expertise, we can continue to grow and impact the IT sector.\n",
      "  We are looking for an Experienced Business Analyst to strengthen our team working onsite with our strategic partner in Bern.\n",
      "  Tasks:\n",
      "\n",
      "Capture technical specifications in strategic and operational management to map requirements for data analysis, models, and analysis methods.\n",
      "\n",
      "Develop complex analyses and data-based functional models for the development, enhancement, and digitization of tools for strategic and operational business management.\n",
      "\n",
      "  Your Profile\n",
      "\n",
      "Hold a completed technical, scientific, or mathematical master's degree or similar\n",
      "\n",
      "Experience in software engineering with modern software development approaches and techniques such as Agile, BizDevOps, Pair Programming, CI/CD, Testing, Versioning\n",
      "\n",
      "Advanced knowledge in Java and Python as well as basic knowledge in Structured Query Language (SQL)\n",
      "\n",
      "With your strong analytical skills and knowledge of methods, you maintain an overview even with large amounts of data and apply model-based problem-solving strategies\n",
      "\n",
      "You have good language skills in German\n",
      "\n",
      "Strong English skills\n",
      "\n",
      "Mathematics and statistics-oriented programming languages (R, Matlab, etc.) (Nice to Have)\n",
      "\n",
      "Knowledge of Scala and Spark would be advantageous\n",
      "\n",
      "  Work location: Bern and remote\n",
      "If we’ve piqued your interest and impacting the future of society through your analysis skills is a goal of yours, please do not hesitate to apply. More details will follow! I look forward to hearing from you.\n",
      "  Apply Now\n",
      "\n",
      "Share Job\n",
      "https://www.jobs.ch/en/vacancies/detail/885fadfa-2439-44e6-95d5-c0a446f20211/?source=vacancy_search\n",
      "Tamedia AG\n",
      "https://www.jobs.ch/en/vacancies/detail/af18f6f3-2b1a-4972-b3cf-de6eedf30ab8/?source=vacancy_search\n",
      "Private Equity Asset Class Specialist (Analyst/Associate)\n",
      "Partners Group AG\n",
      "Private Equity Asset Class Specialist (Analyst/Associate)\n",
      "Private Equity Asset Class Specialist (Analyst/Associate)\n",
      "Business Department:  Client Solutions Location: \n",
      "Zug, CH\n",
      "Partners Group is a global private markets investment manager, serving over 1,000 institutional investors. We have USD 131 billion in assets under management and more than 1,600 professionals across 20 offices worldwide. We realize potential in private markets by financing and developing great companies, desirable real estate and essential infrastructure. We create value in our investments through active and long-term responsible ownership.\n",
      "What it's about\n",
      "What it's about\n",
      "  Partners Group is seeking a Zug-based Business Development Analyst to help drive European and Global fundraising for our Private Equity (PE) Directs and Secondaries Platforms (functional title: Support Professional – PE Asset Class Experts). You are an integral part of the success of our fundraising effort by liaising with existing and future investors in our PE platform, as well as helping our client solutions team (CSOL) be at their best when it comes to discussing our investment strategy, portfolio and track record. The role can be a steppingstone towards growing further into more senior fundraising, sales and/or investment-related roles. This role will be based in Zug.  In particular, the role will focus on the following:\n",
      " \n",
      "Fundraising / Business Development: Support the Private Equity Direct and Secondaries platforms in close coordination with the Global Head of Business Development for Private Equity. Help develop and deliver product specific content/communications, including on investment strategy, investment examples/case studies, track record, competitor differentiation, investor demand summaries, etc.\n",
      "\n",
      "Investor Services: Support the Investor Relationship Management program based on regularly scheduled and ad hoc communication efforts – as well as fielding of investor queries. Continuously update competitor landscape to provide insights on improving our investor service and differentiation.\n",
      "\n",
      "Investment Syndication: Support our co-investment platform that we offer as a key benefit to strategic investors in the PG universe. This entails drafting key priorities of syndications, co-ordination of investor demand, internal approvals, and liaising with Structuring and Transaction Services on vehicle creation and execution.\n",
      "\n",
      "\n",
      "Project Management: Create and support the execution of marketing plans, development of marketing materials (including pitchbook, investment case studies, etc.), and management of the fundraising process for the (i) Partners Group Direct Equity and Secondaries flagship funds, and (ii) co-investments.\n",
      "\n",
      "\n",
      "Roadshow Coordination: Coordinate roadshow campaign management for Partners Group flagship funds with >400 clients globally. Ensure coordination between CSOL and the Directs and Secondaries investment teams with consistent communication\n",
      "\n",
      "Efficiency & Productivity: Support efficiency within CSOL, ensuring our sales team can always put their best foot forward with the highest quality and most targeted materials and briefings, while avoiding duplication of efforts on in-house due diligence preparation, request for proposal reviews, and creation of new materials.\n",
      "\n",
      "Reporting: Provide comprehensive reporting and real-time updates to management and the sales team, monitoring the timeline and execution of the fundraise including: LP demand books, detailed contact reporting with next steps, forward roadshow calendar, data room access reporting, due diligence tracker, co-investment lists, etc.\n",
      "\n",
      "LP Engagement & Support: Engage with investors on fundraising tasks (e.g. due diligence follow-ups) within the CET time-zone, ensuring timeliness and quality of replies\n",
      "\n",
      "Special Projects:  Drive initiatives related to client/investor events including due diligence days, business line meeting updates, annual general meeting, off-sites, and recruiting\n",
      "\n",
      "Marketing & Media: Coordinate industry event sponsorship, media exposure, Q&A, contribute to further establish PG's image in private equity directs and secondaries.\n",
      "\n",
      "What we expect\n",
      "  The successful person for this role should have the following:\n",
      "\n",
      "Education: Relevant Bachelor’s degree ideally in  finance, economics or business-related, engineering (strong to oustanding GPA)\n",
      "\n",
      "\n",
      "Experience: 1-4 years of relevant experience (e.g., investment banking, private equity, private markets specialists or marketing / sales)\n",
      "\n",
      "Financial Literacy & commercial acumen: Understands the dynamics of private equity investing, including value drivers, financial, operational, and technical processes.\n",
      "\n",
      "Technical Competences: Thorough proficiency with PowerPoint and Excel. Ability to analyze, communicate, and synthesize complex information. Excellent organizational skills and attention to detail\n",
      "\n",
      "Self-starter: Anticipates and executes value-add activities with minimal supervision; communicates and works effectively within an international / dispersed team\n",
      "\n",
      "\n",
      "Effectiveness: Persuasive with the sales team to maximize output during a fundraise\n",
      "\n",
      "\n",
      "Client-ready: Assists with supporting LP relationships that require high-touch interactions, as well as any strategic clients who require significant in-house support\n",
      "\n",
      "Ability to withstand pressure: In what are often crucial projects for the firm with short turnaround times, you will need to withstand pressure and be able to deliver on short notice at certain times.\n",
      "\n",
      "Team spirit: Develops and establishes strong bonds across the firm\n",
      "\n",
      "What we offer\n",
      "  Partners Group is a global financial institution that retains the culture, pace and agility of a start-up. As a growing firm, we are committed to attracting, developing and retaining the very best talent, by offering a workplace where results are truly recognized and rewarded. We offer a fantastic opportunity for you to grow:\n",
      "\n",
      "Professional, international working environment\n",
      "\n",
      "Challenging, rewarding career within a growing company\n",
      "\n",
      "Collaborative environment, with on-the-job training and mentorship opportunities\n",
      "\n",
      "Pension\n",
      "\n",
      "25 days annual leave\n",
      "\n",
      "One-month sabbatical after every five years of service\n",
      "\n",
      "Daily lunch allowance\n",
      "\n",
      "Fun office and team events, including volunteer opportunities to connect with and help our local communities\n",
      "\n",
      "  Make an impact on the organization by taking a lead role in the continued growth of our business.  Our working environment is humble, inclusive and transparent, and the structure of the firm is flat.\n",
      "  At Partners Group, we thrive on new ideas for the benefit of our clients, our employees and our community.  We are proud to be an equal opportunity employer and support diversity of perspectives.\n",
      " \n",
      "www.partnersgroup.com\n",
      "\n",
      "Job Segment: Private Equity, Equity, Investment Banking, Financial, Finance\n",
      "https://www.jobs.ch/en/vacancies/detail/81a5a193-4455-40b0-917e-25750c34e881/?source=vacancy_search\n"
     ]
    },
    {
     "name": "stdout",
     "output_type": "stream",
     "text": [
      "Power BI Developer / Data Analyst (80% - 100%)\n",
      "Swisscontact, Schweizerische Stiftung für technische Entwicklungszusammenarbeit\n",
      "Power BI Developer / Data Analyst (80% - 100%)\n",
      "Power BI Developer / Data Analyst (80% - 100%)\n",
      "Contract typeUnlimitedWorking locationZürichJob entry: Immediately or by arrangement / Contract duration: permanent employment\n",
      "Apply now\n",
      "Tasks\n",
      "\n",
      "Conceptualize, develop and roll-out state-of-the-art reporting solutions in Power BI (Premium Capacity) with data from our finance and business applications Abacus (Finance ERP), Microsoft Dynamics/MS 365, in the areas of Donor & Partner Management, Project Management, Finance and Administration\n",
      "\n",
      "Help us scale up and optimize our existing BI / DWH architecture and corresponding ETL processes \n",
      "\n",
      "Champion the digitalization of our key finance processes (budgeting, cost-monitoring, financial reporting) and promote self-service reporting functionality to relevant global stakeholders\n",
      "\n",
      "Significantly contribute to the development and maintenance of a coherent organization-wide and adaptive data model \n",
      " \n",
      "Requirements\n",
      "\n",
      "University of applied sciences degree in the fields of information technology, computer science or equivalent higher technical education \n",
      "\n",
      "At least 3 years of hands-on experience with the implementation and maintenance of data warehouses as well as corporate or departmental Power BI solutions \n",
      "\n",
      "Very good skills in data modelling and visualization (advanced practical knowledge of Power Query and DAX required) \n",
      "\n",
      "Process-oriented and structured thinking with the joy to analyse and independently resolve complex problems in a customer-focused manner\n",
      "\n",
      "Proactive, independent, and solution-oriented approach and resilience\n",
      "\n",
      "Business proficiency in English (written & spoken), German speaking is an advantage \n",
      " \n",
      "Swisscontact offers attractive working conditions in an international and multicultural context. We see our work as a joint effort in an agile organizational culture: mutual respect, trust and teamwork.\n",
      "We look forward to receiving your online application with the following documents: letter of motivation, curriculum vitae, diplomas and references.\n",
      "Contact person: Barbara Eich, HR Business Partner\n",
      "(barbara.eich@swisscontact.org)\n",
      "Swisscontact - Swiss Foundation for Technical Cooperation\n",
      "We are a leading partner organisation for the implementation of international development projects. Founded in 1959 and registered under Swiss law, we are an independent non-profit organisation. We are politically and denominationally neutral.\n",
      "Swisscontact offers attractive working conditions in an international and multicultural context. We see our work as ajoint effort in an agile organizational culture: mutual respect, trust and teamwork.\n",
      "Swiscontact is a leading partner organisation for the implementation of international development projects. We are represented in 38 countries with over 1 200 employees. The foundation is headquartered in Zurich, Switzerland.\n",
      "Swiscontact promotes inclusive economic, social and ecological development to make an effective contribution towards sustainable and widespread prosperity in developing and emerging economies.\n",
      "\n",
      "We strengthen the competencies of people, improving their employability\n",
      "\n",
      "We increase the competitiveness of enterprises, growing their business\n",
      "\n",
      "We foster social and economic systems, promoting inclusive development\n",
      "\n",
      "We believe that people, even in dire conditions have the ability and will to act and liberate themselves from the shackles of poverty. However, this is only possible in an enabling environment and level playing field.\n",
      "Swisscontact stands for professional quality and high ethical standards in its activities.\n",
      "FoundationFounded in 1959 and registered under Swiss law, we are an independent non-profit organisation. We are politically and denominationally neutral.Learn moreTeamThe abilities and readiness for action of our employees are decisive for our projects’ ability to achieve sustainable impact, as well as our long-term success. As an attractive employer, Swisscontact invests in a positive management and work culture. This is defined by our fundamental understanding of development intended to serve not only our beneficiaries in project countries but our employees as well.Learn moreMission statementWe promote inclusive economic, social and ecological development to make an effective contribution towards sustainable and widespread prosperity in developing and emerging economies. With this objective in mind, we offer the chance to economically and socially disadvantaged people to improve their lives on their own initiative.Learn more\n",
      "Power BI Developer / Data Analyst (80% - 100%)\n",
      "Contract typeUnlimitedWorking locationZürichJob entry: Immediately or by arrangement / Contract duration: permanent employment\n",
      "Apply now\n",
      "https://www.jobs.ch/en/vacancies/detail/8542086f-90fe-44c6-b2cf-5c6aac95fee4/?source=vacancy_search\n"
     ]
    }
   ],
   "source": [
    "scrapjob(list_urls)\n"
   ]
  },
  {
   "cell_type": "code",
   "execution_count": 14,
   "id": "6f229900",
   "metadata": {},
   "outputs": [
    {
     "ename": "NameError",
     "evalue": "name 'jdn' is not defined",
     "output_type": "error",
     "traceback": [
      "\u001b[1;31m---------------------------------------------------------------------------\u001b[0m",
      "\u001b[1;31mNameError\u001b[0m                                 Traceback (most recent call last)",
      "Input \u001b[1;32mIn [14]\u001b[0m, in \u001b[0;36m<cell line: 1>\u001b[1;34m()\u001b[0m\n\u001b[1;32m----> 1\u001b[0m df\u001b[38;5;241m=\u001b[39mpd\u001b[38;5;241m.\u001b[39mDataFrame({\u001b[38;5;124m\"\u001b[39m\u001b[38;5;124mjpname\u001b[39m\u001b[38;5;124m\"\u001b[39m:\u001b[43mjdn\u001b[49m,\u001b[38;5;124m\"\u001b[39m\u001b[38;5;124mcompany\u001b[39m\u001b[38;5;124m\"\u001b[39m:jnc,\u001b[38;5;124m\"\u001b[39m\u001b[38;5;124mtext\u001b[39m\u001b[38;5;124m\"\u001b[39m:jd})\n",
      "\u001b[1;31mNameError\u001b[0m: name 'jdn' is not defined"
     ]
    }
   ],
   "source": [
    "\n",
    "df=pd.DataFrame({\"jpname\":jdn,\"company\":jnc,\"text\":jd})"
   ]
  },
  {
   "cell_type": "code",
   "execution_count": null,
   "id": "fdf00553",
   "metadata": {},
   "outputs": [],
   "source": [
    "scrapjob(data2['Link'])"
   ]
  },
  {
   "cell_type": "code",
   "execution_count": null,
   "id": "3ff6e99a",
   "metadata": {},
   "outputs": [],
   "source": [
    "jd"
   ]
  },
  {
   "cell_type": "code",
   "execution_count": null,
   "id": "5e880560",
   "metadata": {},
   "outputs": [],
   "source": [
    "def scrap(page):\n",
    "    browser.get(page)\n",
    "    job1=browser.find_elements_by_class_name(\"YVqFu\")\n",
    "    job2=browser.find_elements_by_class_name(\"kWjXGu\") #Funciona para nombre de compania\n",
    "    job3=browser.find_elements_by_class_name(\"dOmQK\") #Funciona para job description\n",
    "    for element in job1:\n",
    "        print(element.text)\n",
    "    for element in job2:\n",
    "        print(element.text)\n",
    "    for element in job3:\n",
    "        print(element.text)\n",
    "\n",
    "testpage=data2['Link'].iloc[9]\n",
    "\n",
    "scrap(testpage)"
   ]
  }
 ],
 "metadata": {
  "kernelspec": {
   "display_name": "Python 3 (ipykernel)",
   "language": "python",
   "name": "python3"
  },
  "language_info": {
   "codemirror_mode": {
    "name": "ipython",
    "version": 3
   },
   "file_extension": ".py",
   "mimetype": "text/x-python",
   "name": "python",
   "nbconvert_exporter": "python",
   "pygments_lexer": "ipython3",
   "version": "3.9.12"
  }
 },
 "nbformat": 4,
 "nbformat_minor": 5
}
