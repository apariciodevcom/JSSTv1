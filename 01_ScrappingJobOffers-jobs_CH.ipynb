{
 "cells": [
  {
   "cell_type": "markdown",
   "id": "27c29023",
   "metadata": {},
   "source": [
    "# Description of this Notebook\n",
    "\n",
    "\n",
    "<p>This notebook allows you to quickly extract information about job offers on Linkedin, the data comes out of the first screen when you make a query on Linkedin, for example: \"Data Analyst\".</p>\n",
    "<p>The fields we extract are:</p>\n",
    "<ol>\n",
    "  <li>Company Name</li>\n",
    "  <li>Job Position</li>\n",
    "  <li>Location</li>\n",
    "  <li>Link</li>\n",
    "</ol> \n",
    "\n",
    "Note: Don't forget check the version of your web navigator and download the apropiate version of [Chromedriver](https://chromedriver.chromium.org/home)."
   ]
  },
  {
   "cell_type": "code",
   "execution_count": 1,
   "id": "d918f450",
   "metadata": {},
   "outputs": [],
   "source": [
    "#Import libraries\n",
    "import pandas as pd\n",
    "import re\n",
    "from selenium import webdriver\n",
    "from selenium.webdriver.common.keys import Keys\n",
    "from selenium.common.exceptions import NoSuchElementException\n",
    "import time\n",
    "\n",
    "import numpy as np\n",
    "from sqlalchemy import create_engine   #Optional, if you want to export data to a Postgres database\n",
    "from selenium.webdriver.support.ui import WebDriverWait\n",
    "from selenium.webdriver.common.by import By\n",
    "from selenium.webdriver.support import expected_conditions as EC\n",
    "\n",
    "browser=webdriver.Chrome(\"chromedriver.exe\")"
   ]
  },
  {
   "cell_type": "code",
   "execution_count": 2,
   "id": "c70f342e",
   "metadata": {},
   "outputs": [],
   "source": [
    "def scrapping(url):\n",
    "    browser.get(\"https://www.jobs.ch/en/vacancies/?page=\"+str(url)+\"&publication-date=30&term=Data%20Analyst\")\n",
    "    job=browser.find_elements_by_class_name(\"bKvYAo\")\n",
    "\n",
    "    c=[]\n",
    "    href=[]\n",
    "    for i in job:\n",
    "        try:\n",
    "            c.append(i.text)\n",
    "            href.append(i.get_attribute('href'))\n",
    "        except NoSuchElementException:\n",
    "            print('error')\n",
    "    col=[\"Job Position\",\"Link\"]\n",
    "    df=pd.DataFrame({\"Job Position\":c,\"Link\":href})\n",
    "    #Export the results\n",
    "    df.to_csv(\"st_221201_\"+str(url)+\".csv\")\n",
    "    df.shape"
   ]
  },
  {
   "cell_type": "code",
   "execution_count": 3,
   "id": "83a755c4",
   "metadata": {},
   "outputs": [
    {
     "name": "stdout",
     "output_type": "stream",
     "text": [
      "1\n",
      "2\n",
      "3\n",
      "4\n",
      "5\n",
      "6\n",
      "7\n",
      "8\n",
      "9\n",
      "10\n",
      "11\n",
      "12\n",
      "13\n",
      "14\n",
      "15\n"
     ]
    }
   ],
   "source": [
    "list_url=np.arange(2,17)\n",
    "counter=0\n",
    "for url in list_url:\n",
    "    counter+=1\n",
    "    print(counter)\n",
    "    scrapping(url)"
   ]
  },
  {
   "cell_type": "code",
   "execution_count": 4,
   "id": "9f3ae132",
   "metadata": {},
   "outputs": [
    {
     "name": "stdout",
     "output_type": "stream",
     "text": [
      "(323, 3)\n"
     ]
    }
   ],
   "source": [
    "df=[]\n",
    "files=np.arange(2,17)\n",
    "\n",
    "for file in files:\n",
    "    data=pd.read_csv('st_221201_'+str(file)+'.csv')\n",
    "    #Store DataFrame in list\n",
    "    df.append(data)\n",
    "df=pd.concat(df)\n",
    "print(df.shape)\n"
   ]
  },
  {
   "cell_type": "code",
   "execution_count": 5,
   "id": "a12b2f85",
   "metadata": {},
   "outputs": [],
   "source": [
    "df.to_csv(\"st_221201_DA1.csv\")"
   ]
  }
 ],
 "metadata": {
  "kernelspec": {
   "display_name": "Python 3 (ipykernel)",
   "language": "python",
   "name": "python3"
  },
  "language_info": {
   "codemirror_mode": {
    "name": "ipython",
    "version": 3
   },
   "file_extension": ".py",
   "mimetype": "text/x-python",
   "name": "python",
   "nbconvert_exporter": "python",
   "pygments_lexer": "ipython3",
   "version": "3.7.1"
  }
 },
 "nbformat": 4,
 "nbformat_minor": 5
}
