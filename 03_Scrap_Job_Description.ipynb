{
 "cells": [
  {
   "cell_type": "code",
   "execution_count": 1,
   "id": "a78acd12-3851-4995-b953-d85d0c15b788",
   "metadata": {},
   "outputs": [],
   "source": [
    "import pandas as pd\n",
    "import numpy as np\n",
    "from sqlalchemy import create_engine\n",
    "\n",
    "from selenium.webdriver.support.ui import WebDriverWait\n",
    "from selenium.webdriver.common.by import By\n",
    "from selenium.webdriver.support import expected_conditions as EC\n",
    "\n",
    "import re\n",
    "from selenium import webdriver\n",
    "from selenium.webdriver.common.keys import Keys\n",
    "from selenium.common.exceptions import NoSuchElementException\n",
    "import time\n",
    "\n",
    "credentials=pd.read_csv('credentials.txt') #For security reasons\n",
    "df=pd.read_csv('joblist221113_listcsv.csv')\n",
    "df.columns\n",
    "\n",
    "browser=webdriver.Chrome(\"chromedriver.exe\")\n",
    "browser.get(\"https://www.linkedin.com\")\n",
    "\n",
    "username=browser.find_element_by_id(\"session_key\")\n",
    "username.send_keys(credentials['email'])\n",
    "password=browser.find_element_by_id(\"session_password\")\n",
    "password.send_keys(credentials['password'])\n",
    "\n",
    "login_buttom=browser.find_element_by_class_name(\"sign-in-form__submit-button\")\n",
    "login_buttom.click()\n",
    "\n",
    "list_urls=df['Link']"
   ]
  },
  {
   "cell_type": "code",
   "execution_count": 2,
   "id": "85bdb7b3",
   "metadata": {},
   "outputs": [
    {
     "name": "stdout",
     "output_type": "stream",
     "text": [
      "------------------> url # 1\n",
      "------------------> url # 2\n",
      "------------------> url # 3\n",
      "------------------> url # 4\n",
      "------------------> url # 5\n",
      "------------------> url # 6\n",
      "------------------> url # 7\n",
      "------------------> url # 8\n",
      "------------------> url # 9\n",
      "------------------> url # 10\n",
      "------------------> url # 11\n",
      "------------------> url # 12\n",
      "------------------> url # 13\n",
      "------------------> url # 14\n",
      "------------------> url # 15\n",
      "------------------> url # 16\n",
      "------------------> url # 17\n",
      "------------------> url # 18\n",
      "------------------> url # 19\n",
      "10 10 10 10\n"
     ]
    }
   ],
   "source": [
    "i=0\n",
    "idjob=[]\n",
    "job_title=[]\n",
    "company=[]\n",
    "location=[]\n",
    "job_description=[]\n",
    "place=[]\n",
    "timepub=[]\n",
    "for url in list_urls:\n",
    "    i+=1\n",
    "    description=[]\n",
    "    browser.get(url)\n",
    "    print('------------------> url #', i)\n",
    "    try:\n",
    "        title=browser.find_element_by_css_selector('h1.t-24.t-bold').text\n",
    "        #print(title)\n",
    "        firma=browser.find_element_by_css_selector('a.ember-view.t-black.t-normal').text\n",
    "        #print(firma)\n",
    "        location=browser.find_element_by_css_selector('span.jobs-unified-top-card__bullet').text\n",
    "        #print(location)        \n",
    "        timeposted=browser.find_element_by_css_selector('span.jobs-unified-top-card__posted-date').text\n",
    "        #print(timeposted)\n",
    "        text_html=browser.find_elements_by_css_selector('div.jobs-unified-description__content')\n",
    "        for j in text_html:\n",
    "            #print(j.get_attribute(\"innerHTML\"))\n",
    "            description.append(j.get_attribute(\"innerHTML\"))\n",
    "        job_description.append(description)\n",
    "        job_title.append(title)\n",
    "        company.append(firma)\n",
    "        place.append(location)\n",
    "        timepub.append(timeposted)\n",
    "        idjob.append(url)\n",
    "        #print(job_description)\n",
    "    except NoSuchElementException:\n",
    "        title='N/A'\n",
    "        firma='N/A'\n",
    "        location='N/A'\n",
    "        timeposted='N/A'\n",
    "        text_html='N/A'\n",
    "        \n",
    "print(len(job_title),len(company),len(job_description),len(idjob))"
   ]
  },
  {
   "cell_type": "code",
   "execution_count": 3,
   "id": "cda7014d",
   "metadata": {},
   "outputs": [],
   "source": [
    "\n",
    "dataset=pd.DataFrame({\"Job Title\":job_title,\"Company\":company,\"Location\":place,\"Timepub\":timepub,\"Job Details\":job_description,\"idjob\":idjob})"
   ]
  },
  {
   "cell_type": "code",
   "execution_count": 4,
   "id": "5217ab2c",
   "metadata": {},
   "outputs": [],
   "source": [
    "dataset.to_csv(\"alljobs_scrappedprogramtest.csv\")"
   ]
  },
  {
   "cell_type": "code",
   "execution_count": 5,
   "id": "6953314c",
   "metadata": {},
   "outputs": [
    {
     "data": {
      "text/plain": [
       "(10, 6)"
      ]
     },
     "execution_count": 5,
     "metadata": {},
     "output_type": "execute_result"
    }
   ],
   "source": [
    "dataset.shape"
   ]
  },
  {
   "cell_type": "code",
   "execution_count": 6,
   "id": "c01e987d",
   "metadata": {},
   "outputs": [
    {
     "data": {
      "text/html": [
       "<div>\n",
       "<style scoped>\n",
       "    .dataframe tbody tr th:only-of-type {\n",
       "        vertical-align: middle;\n",
       "    }\n",
       "\n",
       "    .dataframe tbody tr th {\n",
       "        vertical-align: top;\n",
       "    }\n",
       "\n",
       "    .dataframe thead th {\n",
       "        text-align: right;\n",
       "    }\n",
       "</style>\n",
       "<table border=\"1\" class=\"dataframe\">\n",
       "  <thead>\n",
       "    <tr style=\"text-align: right;\">\n",
       "      <th></th>\n",
       "      <th>Job Title</th>\n",
       "      <th>Company</th>\n",
       "      <th>Location</th>\n",
       "      <th>Timepub</th>\n",
       "      <th>Job Details</th>\n",
       "      <th>idjob</th>\n",
       "    </tr>\n",
       "  </thead>\n",
       "  <tbody>\n",
       "    <tr>\n",
       "      <th>0</th>\n",
       "      <td>Data Analyst (80-100%, all genders)</td>\n",
       "      <td>Swiss International Air Lines</td>\n",
       "      <td>Kloten, Zurich, Switzerland</td>\n",
       "      <td>1 week ago</td>\n",
       "      <td>[\\n    &lt;h2 class=\"jobs-unified-description__co...</td>\n",
       "      <td>https://www.linkedin.com/jobs/view/3341160822/...</td>\n",
       "    </tr>\n",
       "    <tr>\n",
       "      <th>1</th>\n",
       "      <td>Data Analyst</td>\n",
       "      <td>UBS</td>\n",
       "      <td>Zurich, Zurich, Switzerland</td>\n",
       "      <td>2 days ago</td>\n",
       "      <td>[\\n    &lt;h2 class=\"jobs-unified-description__co...</td>\n",
       "      <td>https://www.linkedin.com/jobs/view/3355911801/...</td>\n",
       "    </tr>\n",
       "    <tr>\n",
       "      <th>2</th>\n",
       "      <td>Online Data Analyst</td>\n",
       "      <td>TELUS International</td>\n",
       "      <td>Zurich, Switzerland</td>\n",
       "      <td>2 days ago</td>\n",
       "      <td>[\\n    &lt;h2 class=\"jobs-unified-description__co...</td>\n",
       "      <td>https://www.linkedin.com/jobs/view/3356138955/...</td>\n",
       "    </tr>\n",
       "    <tr>\n",
       "      <th>3</th>\n",
       "      <td>Data Analyst</td>\n",
       "      <td>Randstad Switzerland</td>\n",
       "      <td>Zurich, Switzerland</td>\n",
       "      <td>1 week ago</td>\n",
       "      <td>[\\n    &lt;h2 class=\"jobs-unified-description__co...</td>\n",
       "      <td>https://www.linkedin.com/jobs/view/3341559697/...</td>\n",
       "    </tr>\n",
       "    <tr>\n",
       "      <th>4</th>\n",
       "      <td>Data Analyst Versicherungstechnik (w/m/d), 80-...</td>\n",
       "      <td>Sanitas Krankenversicherung</td>\n",
       "      <td>Zurich, Zurich, Switzerland</td>\n",
       "      <td>3 days ago</td>\n",
       "      <td>[\\n    &lt;h2 class=\"jobs-unified-description__co...</td>\n",
       "      <td>https://www.linkedin.com/jobs/view/3349813246/...</td>\n",
       "    </tr>\n",
       "  </tbody>\n",
       "</table>\n",
       "</div>"
      ],
      "text/plain": [
       "                                           Job Title  \\\n",
       "0                Data Analyst (80-100%, all genders)   \n",
       "1                                       Data Analyst   \n",
       "2                                Online Data Analyst   \n",
       "3                                       Data Analyst   \n",
       "4  Data Analyst Versicherungstechnik (w/m/d), 80-...   \n",
       "\n",
       "                         Company                     Location     Timepub  \\\n",
       "0  Swiss International Air Lines  Kloten, Zurich, Switzerland  1 week ago   \n",
       "1                            UBS  Zurich, Zurich, Switzerland  2 days ago   \n",
       "2            TELUS International          Zurich, Switzerland  2 days ago   \n",
       "3           Randstad Switzerland          Zurich, Switzerland  1 week ago   \n",
       "4    Sanitas Krankenversicherung  Zurich, Zurich, Switzerland  3 days ago   \n",
       "\n",
       "                                         Job Details  \\\n",
       "0  [\\n    <h2 class=\"jobs-unified-description__co...   \n",
       "1  [\\n    <h2 class=\"jobs-unified-description__co...   \n",
       "2  [\\n    <h2 class=\"jobs-unified-description__co...   \n",
       "3  [\\n    <h2 class=\"jobs-unified-description__co...   \n",
       "4  [\\n    <h2 class=\"jobs-unified-description__co...   \n",
       "\n",
       "                                               idjob  \n",
       "0  https://www.linkedin.com/jobs/view/3341160822/...  \n",
       "1  https://www.linkedin.com/jobs/view/3355911801/...  \n",
       "2  https://www.linkedin.com/jobs/view/3356138955/...  \n",
       "3  https://www.linkedin.com/jobs/view/3341559697/...  \n",
       "4  https://www.linkedin.com/jobs/view/3349813246/...  "
      ]
     },
     "execution_count": 6,
     "metadata": {},
     "output_type": "execute_result"
    }
   ],
   "source": [
    "dataset.head()"
   ]
  }
 ],
 "metadata": {
  "kernelspec": {
   "display_name": "Python 3 (ipykernel)",
   "language": "python",
   "name": "python3"
  },
  "language_info": {
   "codemirror_mode": {
    "name": "ipython",
    "version": 3
   },
   "file_extension": ".py",
   "mimetype": "text/x-python",
   "name": "python",
   "nbconvert_exporter": "python",
   "pygments_lexer": "ipython3",
   "version": "3.9.12"
  }
 },
 "nbformat": 4,
 "nbformat_minor": 5
}
