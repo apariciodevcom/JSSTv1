{
 "cells": [
  {
   "cell_type": "code",
   "execution_count": 1,
   "id": "925d68f1",
   "metadata": {},
   "outputs": [
    {
     "data": {
      "text/plain": [
       "(232, 5)"
      ]
     },
     "execution_count": 1,
     "metadata": {},
     "output_type": "execute_result"
    }
   ],
   "source": [
    "import pandas as pd\n",
    "import numpy as np\n",
    "import re\n",
    "\n",
    "df=[]\n",
    "files=np.arange(1,11)\n",
    "\n",
    "for file in files:\n",
    "    data=pd.read_csv('joblist221113_'+str(file)+'.csv')\n",
    "    #Store DataFrame in list\n",
    "    df.append(data)\n",
    "df=pd.concat(df)\n",
    "\n",
    "df.shape"
   ]
  },
  {
   "cell_type": "code",
   "execution_count": 2,
   "id": "b73d468f",
   "metadata": {},
   "outputs": [
    {
     "data": {
      "text/html": [
       "<div>\n",
       "<style scoped>\n",
       "    .dataframe tbody tr th:only-of-type {\n",
       "        vertical-align: middle;\n",
       "    }\n",
       "\n",
       "    .dataframe tbody tr th {\n",
       "        vertical-align: top;\n",
       "    }\n",
       "\n",
       "    .dataframe thead th {\n",
       "        text-align: right;\n",
       "    }\n",
       "</style>\n",
       "<table border=\"1\" class=\"dataframe\">\n",
       "  <thead>\n",
       "    <tr style=\"text-align: right;\">\n",
       "      <th></th>\n",
       "      <th>Unnamed: 0</th>\n",
       "      <th>Company Name</th>\n",
       "      <th>Job Position</th>\n",
       "      <th>Location</th>\n",
       "      <th>Link</th>\n",
       "      <th>jp</th>\n",
       "      <th>loc</th>\n",
       "      <th>company</th>\n",
       "    </tr>\n",
       "  </thead>\n",
       "  <tbody>\n",
       "    <tr>\n",
       "      <th>0</th>\n",
       "      <td>0</td>\n",
       "      <td>Lonza</td>\n",
       "      <td>Global Master Data Business Analyst (w/m/d)</td>\n",
       "      <td>Visp, Valais, Switzerland (On-site)</td>\n",
       "      <td>https://www.linkedin.com/jobs/view/3245386852/...</td>\n",
       "      <td>global master data business analyst w m d</td>\n",
       "      <td>visp, valais, switzerland (on-site)</td>\n",
       "      <td>lonza</td>\n",
       "    </tr>\n",
       "    <tr>\n",
       "      <th>1</th>\n",
       "      <td>1</td>\n",
       "      <td>Agoda</td>\n",
       "      <td>Senior Data Analyst (Bangkok Based, relocation...</td>\n",
       "      <td>Zurich, Zurich, Switzerland</td>\n",
       "      <td>https://www.linkedin.com/jobs/view/3342554707/...</td>\n",
       "      <td>senior data analyst bangkok based relocation p...</td>\n",
       "      <td>zurich, zurich, switzerland</td>\n",
       "      <td>agoda</td>\n",
       "    </tr>\n",
       "    <tr>\n",
       "      <th>2</th>\n",
       "      <td>2</td>\n",
       "      <td>Sigma Suisse - Manufacture de talents</td>\n",
       "      <td>Data Analyst (H/F)</td>\n",
       "      <td>Geneva, Switzerland (On-site)</td>\n",
       "      <td>https://www.linkedin.com/jobs/view/3312931744/...</td>\n",
       "      <td>data analyst h f</td>\n",
       "      <td>geneva, switzerland (on-site)</td>\n",
       "      <td>sigma suisse manufacture de talents</td>\n",
       "    </tr>\n",
       "    <tr>\n",
       "      <th>3</th>\n",
       "      <td>3</td>\n",
       "      <td>UBS</td>\n",
       "      <td>Data Analyst</td>\n",
       "      <td>Schaffhausen, Schaffhausen, Switzerland (On-site)</td>\n",
       "      <td>https://www.linkedin.com/jobs/view/3347695045/...</td>\n",
       "      <td>data analyst</td>\n",
       "      <td>schaffhausen, schaffhausen, switzerland (on-site)</td>\n",
       "      <td>ubs</td>\n",
       "    </tr>\n",
       "    <tr>\n",
       "      <th>4</th>\n",
       "      <td>4</td>\n",
       "      <td>Swiss International Air Lines</td>\n",
       "      <td>Data Analyst (80-100%, all genders)</td>\n",
       "      <td>Kloten, Zurich, Switzerland</td>\n",
       "      <td>https://www.linkedin.com/jobs/view/3341160822/...</td>\n",
       "      <td>data analyst 80 100 all genders</td>\n",
       "      <td>kloten, zurich, switzerland</td>\n",
       "      <td>swiss international air lines</td>\n",
       "    </tr>\n",
       "  </tbody>\n",
       "</table>\n",
       "</div>"
      ],
      "text/plain": [
       "   Unnamed: 0                           Company Name  \\\n",
       "0           0                                  Lonza   \n",
       "1           1                                  Agoda   \n",
       "2           2  Sigma Suisse - Manufacture de talents   \n",
       "3           3                                    UBS   \n",
       "4           4          Swiss International Air Lines   \n",
       "\n",
       "                                        Job Position  \\\n",
       "0        Global Master Data Business Analyst (w/m/d)   \n",
       "1  Senior Data Analyst (Bangkok Based, relocation...   \n",
       "2                                 Data Analyst (H/F)   \n",
       "3                                       Data Analyst   \n",
       "4                Data Analyst (80-100%, all genders)   \n",
       "\n",
       "                                            Location  \\\n",
       "0                Visp, Valais, Switzerland (On-site)   \n",
       "1                        Zurich, Zurich, Switzerland   \n",
       "2                      Geneva, Switzerland (On-site)   \n",
       "3  Schaffhausen, Schaffhausen, Switzerland (On-site)   \n",
       "4                        Kloten, Zurich, Switzerland   \n",
       "\n",
       "                                                Link  \\\n",
       "0  https://www.linkedin.com/jobs/view/3245386852/...   \n",
       "1  https://www.linkedin.com/jobs/view/3342554707/...   \n",
       "2  https://www.linkedin.com/jobs/view/3312931744/...   \n",
       "3  https://www.linkedin.com/jobs/view/3347695045/...   \n",
       "4  https://www.linkedin.com/jobs/view/3341160822/...   \n",
       "\n",
       "                                                  jp  \\\n",
       "0         global master data business analyst w m d    \n",
       "1  senior data analyst bangkok based relocation p...   \n",
       "2                                  data analyst h f    \n",
       "3                                       data analyst   \n",
       "4                   data analyst 80 100 all genders    \n",
       "\n",
       "                                                 loc  \\\n",
       "0                visp, valais, switzerland (on-site)   \n",
       "1                        zurich, zurich, switzerland   \n",
       "2                      geneva, switzerland (on-site)   \n",
       "3  schaffhausen, schaffhausen, switzerland (on-site)   \n",
       "4                        kloten, zurich, switzerland   \n",
       "\n",
       "                               company  \n",
       "0                                lonza  \n",
       "1                                agoda  \n",
       "2  sigma suisse manufacture de talents  \n",
       "3                                  ubs  \n",
       "4        swiss international air lines  "
      ]
     },
     "execution_count": 2,
     "metadata": {},
     "output_type": "execute_result"
    }
   ],
   "source": [
    "# Split text and eliminate special characters\n",
    "df['jp']=df['Job Position'].apply(lambda x: \" \".join(x.lower() for x in x.split()))\n",
    "df['jp']=df['jp'].map(lambda x: re.sub(r'\\W+',' ',x))\n",
    "df['loc']=df['Location'].apply(lambda x: \" \".join(x.lower() for x in x.split()))\n",
    "#df['loc']=df['Location'].map(lambda x: re.sub(r'\\W+',' ',x))\n",
    "#df['loc']=df['Location'].map(lambda x: re.sub('switzerland',' ',x))\n",
    "df['company']=df['Company Name'].apply(lambda x: \" \".join(x.lower() for x in x.split()))\n",
    "df['company']=df['company'].map(lambda x: re.sub(r'\\W+',' ',x))\n",
    "\n",
    "df.head()"
   ]
  },
  {
   "cell_type": "code",
   "execution_count": 4,
   "id": "2e154802",
   "metadata": {},
   "outputs": [
    {
     "name": "stdout",
     "output_type": "stream",
     "text": [
      "switzerland    225\n",
      "zurich,        112\n",
      "(on-site)      106\n",
      "(hybrid)        55\n",
      "geneva,         52\n",
      "basel,          42\n",
      "(remote)        26\n",
      "zug,            17\n",
      "berne,          16\n",
      "vaud,           13\n",
      "dtype: int64\n"
     ]
    }
   ],
   "source": [
    "#Rewiew word frequency in loc\n",
    "freq = pd.Series(' '.join(df['loc']).split()).value_counts()[:10]\n",
    "print(freq)"
   ]
  },
  {
   "cell_type": "code",
   "execution_count": 5,
   "id": "3fd81012",
   "metadata": {},
   "outputs": [
    {
     "data": {
      "text/plain": [
       "(232, 30)"
      ]
     },
     "execution_count": 5,
     "metadata": {},
     "output_type": "execute_result"
    }
   ],
   "source": [
    "#Flags for filtering\n",
    "\n",
    "df['analyst'] = df['jp'].apply(lambda x: 1 if 'analyst' in x else 0)\n",
    "df['software']= df['jp'].apply(lambda x: 1 if 'software' in x else 0)\n",
    "df['developer']= df['jp'].apply(lambda x: 1 if 'developer' in x else 0)\n",
    "df['engineer']= df['jp'].apply(lambda x: 1 if 'engineer' in x else 0)\n",
    "df['freelance']= df['jp'].apply(lambda x: 1 if 'freelance' in x else 0)\n",
    "df['remote']= df['jp'].apply(lambda x: 1 if 'remote' in x else 0)\n",
    "df['DA']= df['jp'].apply(lambda x: 1 if 'data analyst' in x else 0)    #important flag\n",
    "df['DS']= df['jp'].apply(lambda x: 1 if 'data scientist' in x else 0)\n",
    "df['ML']= df['jp'].apply(lambda x: 1 if 'machine learning' in x else 0)\n",
    "df['BI']= df['jp'].apply(lambda x: 1 if 'business intelligence' in x else 0)\n",
    "df['DE']= df['jp'].apply(lambda x: 1 if 'data engineer' in x else 0)\n",
    "df['senior']= df['jp'].apply(lambda x: 1 if 'senior' in x else 0)\n",
    "df['junior']= df['jp'].apply(lambda x: 1 if 'junior' in x else 0)\n",
    "df['bigdata']= df['jp'].apply(lambda x: 1 if 'big data' in x else 0)\n",
    "df['powerbi']= df['jp'].apply(lambda x: 1 if 'power bi' in x else 0)\n",
    "df['tableau']= df['jp'].apply(lambda x: 1 if 'tableau' in x else 0)\n",
    "df['qlik']= df['jp'].apply(lambda x: 1 if 'qlik' in x else 0)\n",
    "df['sql']= df['jp'].apply(lambda x: 1 if 'sql' in x else 0)\n",
    "df['python']= df['jp'].apply(lambda x: 1 if 'python' in x else 0)   #important flag\n",
    "df['consultant']= df['jp'].apply(lambda x: 1 if 'consultant' in x else 0)\n",
    "df['statistical']= df['jp'].apply(lambda x: 1 if 'statistical' in x else 0)\n",
    "# id_job to identify job offer\n",
    "df['id_job'] = df['Link'].str[34:90]\n",
    "df['id_job'] = df['id_job'].str[1:11]\n",
    "df['id_job']\n",
    "df.shape"
   ]
  },
  {
   "cell_type": "code",
   "execution_count": 6,
   "id": "04136ed3",
   "metadata": {},
   "outputs": [
    {
     "data": {
      "text/plain": [
       "(228, 30)"
      ]
     },
     "execution_count": 6,
     "metadata": {},
     "output_type": "execute_result"
    }
   ],
   "source": [
    "# Drop duplicates\n",
    "df = df.drop_duplicates(subset = ['id_job'])\n",
    "df.shape"
   ]
  },
  {
   "cell_type": "code",
   "execution_count": 7,
   "id": "f31f0f3c",
   "metadata": {},
   "outputs": [
    {
     "data": {
      "text/plain": [
       "(19, 30)"
      ]
     },
     "execution_count": 7,
     "metadata": {},
     "output_type": "execute_result"
    }
   ],
   "source": [
    "# Filtering data with query on DA flag\n",
    "data2=df.query(\"DA == 1\")\n",
    "# Discard job offers from AGODA\n",
    "data2=data2.query(\"company != 'agoda'\")\n",
    "# Only in Zurich\n",
    "data2=data2[data2['loc'].str.lower().str.contains(\"zurich\")]\n",
    "\n",
    "data2.shape"
   ]
  },
  {
   "cell_type": "code",
   "execution_count": 8,
   "id": "e93fe4d2",
   "metadata": {},
   "outputs": [
    {
     "name": "stderr",
     "output_type": "stream",
     "text": [
      "C:\\Users\\leant\\AppData\\Local\\Temp\\ipykernel_11868\\47905228.py:1: FutureWarning: Passing a set as an indexer is deprecated and will raise in a future version. Use a list instead.\n",
      "  data3=data2[{'Link','company','jp','loc'}]\n"
     ]
    },
    {
     "data": {
      "text/html": [
       "<div>\n",
       "<style scoped>\n",
       "    .dataframe tbody tr th:only-of-type {\n",
       "        vertical-align: middle;\n",
       "    }\n",
       "\n",
       "    .dataframe tbody tr th {\n",
       "        vertical-align: top;\n",
       "    }\n",
       "\n",
       "    .dataframe thead th {\n",
       "        text-align: right;\n",
       "    }\n",
       "</style>\n",
       "<table border=\"1\" class=\"dataframe\">\n",
       "  <thead>\n",
       "    <tr style=\"text-align: right;\">\n",
       "      <th></th>\n",
       "      <th>company</th>\n",
       "      <th>jp</th>\n",
       "      <th>Link</th>\n",
       "      <th>loc</th>\n",
       "    </tr>\n",
       "  </thead>\n",
       "  <tbody>\n",
       "    <tr>\n",
       "      <th>4</th>\n",
       "      <td>swiss international air lines</td>\n",
       "      <td>data analyst 80 100 all genders</td>\n",
       "      <td>https://www.linkedin.com/jobs/view/3341160822/...</td>\n",
       "      <td>kloten, zurich, switzerland</td>\n",
       "    </tr>\n",
       "    <tr>\n",
       "      <th>11</th>\n",
       "      <td>ubs</td>\n",
       "      <td>data analyst</td>\n",
       "      <td>https://www.linkedin.com/jobs/view/3355911801/...</td>\n",
       "      <td>zurich, zurich, switzerland (on-site)</td>\n",
       "    </tr>\n",
       "    <tr>\n",
       "      <th>12</th>\n",
       "      <td>telus international</td>\n",
       "      <td>online data analyst</td>\n",
       "      <td>https://www.linkedin.com/jobs/view/3356138955/...</td>\n",
       "      <td>zurich, switzerland (remote)</td>\n",
       "    </tr>\n",
       "    <tr>\n",
       "      <th>19</th>\n",
       "      <td>randstad switzerland</td>\n",
       "      <td>data analyst</td>\n",
       "      <td>https://www.linkedin.com/jobs/view/3341559697/...</td>\n",
       "      <td>zurich, switzerland (hybrid)</td>\n",
       "    </tr>\n",
       "    <tr>\n",
       "      <th>2</th>\n",
       "      <td>sanitas krankenversicherung</td>\n",
       "      <td>data analyst versicherungstechnik w m d 80 100...</td>\n",
       "      <td>https://www.linkedin.com/jobs/view/3349813246/...</td>\n",
       "      <td>zurich, zurich, switzerland (on-site)</td>\n",
       "    </tr>\n",
       "  </tbody>\n",
       "</table>\n",
       "</div>"
      ],
      "text/plain": [
       "                          company  \\\n",
       "4   swiss international air lines   \n",
       "11                            ubs   \n",
       "12            telus international   \n",
       "19           randstad switzerland   \n",
       "2     sanitas krankenversicherung   \n",
       "\n",
       "                                                   jp  \\\n",
       "4                    data analyst 80 100 all genders    \n",
       "11                                       data analyst   \n",
       "12                                online data analyst   \n",
       "19                                       data analyst   \n",
       "2   data analyst versicherungstechnik w m d 80 100...   \n",
       "\n",
       "                                                 Link  \\\n",
       "4   https://www.linkedin.com/jobs/view/3341160822/...   \n",
       "11  https://www.linkedin.com/jobs/view/3355911801/...   \n",
       "12  https://www.linkedin.com/jobs/view/3356138955/...   \n",
       "19  https://www.linkedin.com/jobs/view/3341559697/...   \n",
       "2   https://www.linkedin.com/jobs/view/3349813246/...   \n",
       "\n",
       "                                      loc  \n",
       "4             kloten, zurich, switzerland  \n",
       "11  zurich, zurich, switzerland (on-site)  \n",
       "12           zurich, switzerland (remote)  \n",
       "19           zurich, switzerland (hybrid)  \n",
       "2   zurich, zurich, switzerland (on-site)  "
      ]
     },
     "execution_count": 8,
     "metadata": {},
     "output_type": "execute_result"
    }
   ],
   "source": [
    "data3=data2[{'Link','company','jp','loc'}]\n",
    "data3.head()"
   ]
  },
  {
   "cell_type": "code",
   "execution_count": 9,
   "id": "d5a7aba2",
   "metadata": {},
   "outputs": [],
   "source": [
    "data3.to_csv(\"joblist221113_listcsv.csv\")"
   ]
  }
 ],
 "metadata": {
  "kernelspec": {
   "display_name": "Python 3 (ipykernel)",
   "language": "python",
   "name": "python3"
  },
  "language_info": {
   "codemirror_mode": {
    "name": "ipython",
    "version": 3
   },
   "file_extension": ".py",
   "mimetype": "text/x-python",
   "name": "python",
   "nbconvert_exporter": "python",
   "pygments_lexer": "ipython3",
   "version": "3.9.12"
  }
 },
 "nbformat": 4,
 "nbformat_minor": 5
}
